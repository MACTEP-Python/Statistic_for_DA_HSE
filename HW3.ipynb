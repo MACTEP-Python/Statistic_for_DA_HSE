{
 "cells": [
  {
   "cell_type": "code",
   "execution_count": 2,
   "metadata": {
    "collapsed": true
   },
   "outputs": [],
   "source": [
    "import pandas as pd"
   ]
  },
  {
   "cell_type": "code",
   "execution_count": 3,
   "outputs": [
    {
     "data": {
      "text/plain": "                                  name                 align            eye  \\\n0            Spider-Man (Peter Parker)       Добрый персонаж    Карие глаза   \n1      Captain America (Steven Rogers)       Добрый персонаж  Голубые глаза   \n2  Wolverine (James \\\"Logan\\\" Howlett)  Нейтральный персонаж  Голубые глаза   \n3    Iron Man (Anthony \\\"Tony\\\" Stark)       Добрый персонаж  Голубые глаза   \n4                  Thor (Thor Odinson)       Добрый персонаж  Голубые глаза   \n\n                hair               sex  appearances  first_appearance  \n0  Каштановые волосы  Мужской персонаж       4043.0            1962.0  \n1       Белые волосы  Мужской персонаж       3360.0            1941.0  \n2      Черные волосы  Мужской персонаж       3061.0            1974.0  \n3      Черные волосы  Мужской персонаж       2961.0            1963.0  \n4       Русые волосы  Мужской персонаж       2258.0            1950.0  ",
      "text/html": "<div>\n<style scoped>\n    .dataframe tbody tr th:only-of-type {\n        vertical-align: middle;\n    }\n\n    .dataframe tbody tr th {\n        vertical-align: top;\n    }\n\n    .dataframe thead th {\n        text-align: right;\n    }\n</style>\n<table border=\"1\" class=\"dataframe\">\n  <thead>\n    <tr style=\"text-align: right;\">\n      <th></th>\n      <th>name</th>\n      <th>align</th>\n      <th>eye</th>\n      <th>hair</th>\n      <th>sex</th>\n      <th>appearances</th>\n      <th>first_appearance</th>\n    </tr>\n  </thead>\n  <tbody>\n    <tr>\n      <th>0</th>\n      <td>Spider-Man (Peter Parker)</td>\n      <td>Добрый персонаж</td>\n      <td>Карие глаза</td>\n      <td>Каштановые волосы</td>\n      <td>Мужской персонаж</td>\n      <td>4043.0</td>\n      <td>1962.0</td>\n    </tr>\n    <tr>\n      <th>1</th>\n      <td>Captain America (Steven Rogers)</td>\n      <td>Добрый персонаж</td>\n      <td>Голубые глаза</td>\n      <td>Белые волосы</td>\n      <td>Мужской персонаж</td>\n      <td>3360.0</td>\n      <td>1941.0</td>\n    </tr>\n    <tr>\n      <th>2</th>\n      <td>Wolverine (James \\\"Logan\\\" Howlett)</td>\n      <td>Нейтральный персонаж</td>\n      <td>Голубые глаза</td>\n      <td>Черные волосы</td>\n      <td>Мужской персонаж</td>\n      <td>3061.0</td>\n      <td>1974.0</td>\n    </tr>\n    <tr>\n      <th>3</th>\n      <td>Iron Man (Anthony \\\"Tony\\\" Stark)</td>\n      <td>Добрый персонаж</td>\n      <td>Голубые глаза</td>\n      <td>Черные волосы</td>\n      <td>Мужской персонаж</td>\n      <td>2961.0</td>\n      <td>1963.0</td>\n    </tr>\n    <tr>\n      <th>4</th>\n      <td>Thor (Thor Odinson)</td>\n      <td>Добрый персонаж</td>\n      <td>Голубые глаза</td>\n      <td>Русые волосы</td>\n      <td>Мужской персонаж</td>\n      <td>2258.0</td>\n      <td>1950.0</td>\n    </tr>\n  </tbody>\n</table>\n</div>"
     },
     "execution_count": 3,
     "metadata": {},
     "output_type": "execute_result"
    }
   ],
   "source": [
    "df = pd.read_csv('https://courses.openedu.ru/assets/courseware/v1/87c72c7b117de3aaaabc62e72683d98e/asset-v1:hse+STATDA+2021+type@asset+block/MarvelComicCaracters.csv', sep=';')\n",
    "df.head()"
   ],
   "metadata": {
    "collapsed": false,
    "pycharm": {
     "name": "#%%\n"
    }
   }
  },
  {
   "cell_type": "code",
   "execution_count": 11,
   "outputs": [
    {
     "data": {
      "text/plain": "sex                      hair                      \nБезполый персонаж        Без волос                       29\n                         Разноцветные волосы              2\n                         Зеленые волосы                   1\nГендерфлюидный персонаж  Каштановые волосы                1\n                         Черные волосы                    1\nЖенский персонаж         Черные волосы                 1048\n                         Русые волосы                   730\n                         Каштановые волосы              521\n                         Белые волосы                   130\n                         Без волос                       92\n                         Зеленые волосы                  48\n                         Светло-розовые волосы           30\n                         Фиолетовые волосы               26\n                         Розовые волосы                  22\n                         Оранжевые волосы                 8\n                         Серебристые волосы               8\n                         Разноцветные волосы              5\n                         Желтые волосы                    4\n                         Пурпурные волосы                 4\n                         Золотые волосы                   1\n                         Окрашенные волосы                1\nМужской персонаж         Черные волосы                 2678\n                         Каштановые волосы             1801\n                         Русые волосы                   844\n                         Без волос                      841\n                         Белые волосы                   608\n                         Зеленые волосы                  66\n                         Оранжевые волосы                35\n                         Разноцветные волосы             22\n                         Фиолетовые волосы               19\n                         Светло-розовые волосы           17\n                         Желтые волосы                   16\n                         Розовые волосы                   9\n                         Серебристые волосы               8\n                         Золотые волосы                   7\n                         Рыжевато-соломенные волосы       6\n                         Светло-каштановые волосы         6\n                         Оранжево-каштановые волосы       3\n                         Бронзовые волосы                 1\n                         Пурпурные волосы                 1\nName: hair, dtype: int64"
     },
     "execution_count": 11,
     "metadata": {},
     "output_type": "execute_result"
    }
   ],
   "source": [
    "df.groupby('sex')['hair'].value_counts()"
   ],
   "metadata": {
    "collapsed": false,
    "pycharm": {
     "name": "#%%\n"
    }
   }
  },
  {
   "cell_type": "code",
   "execution_count": 12,
   "outputs": [
    {
     "data": {
      "text/plain": "count              9989\nunique               20\ntop       Черные волосы\nfreq               3755\nName: hair, dtype: object"
     },
     "execution_count": 12,
     "metadata": {},
     "output_type": "execute_result"
    }
   ],
   "source": [
    "df.hair.describe()"
   ],
   "metadata": {
    "collapsed": false,
    "pycharm": {
     "name": "#%%\n"
    }
   }
  },
  {
   "cell_type": "code",
   "execution_count": 22,
   "outputs": [
    {
     "ename": "TypeError",
     "evalue": "'(0        False\n1        False\n2        False\n3        False\n4        False\n         ...  \n16371     True\n16372    False\n16373     True\n16374    False\n16375     True\nName: align, Length: 16376, dtype: bool, 'appearances')' is an invalid key",
     "output_type": "error",
     "traceback": [
      "\u001B[1;31m---------------------------------------------------------------------------\u001B[0m",
      "\u001B[1;31mTypeError\u001B[0m                                 Traceback (most recent call last)",
      "\u001B[1;32mC:\\Temp/ipykernel_928/962754455.py\u001B[0m in \u001B[0;36m<module>\u001B[1;34m\u001B[0m\n\u001B[1;32m----> 1\u001B[1;33m \u001B[0mdf\u001B[0m\u001B[1;33m[\u001B[0m\u001B[0mdf\u001B[0m\u001B[1;33m[\u001B[0m\u001B[1;34m'align'\u001B[0m\u001B[1;33m]\u001B[0m \u001B[1;33m==\u001B[0m \u001B[1;34m'Злой персонаж'\u001B[0m\u001B[1;33m,\u001B[0m \u001B[1;34m'appearances'\u001B[0m\u001B[1;33m]\u001B[0m\u001B[1;33m\u001B[0m\u001B[1;33m\u001B[0m\u001B[0m\n\u001B[0m",
      "\u001B[1;32m~\\AppData\\Roaming\\Python\\Python310\\site-packages\\pandas\\core\\frame.py\u001B[0m in \u001B[0;36m__getitem__\u001B[1;34m(self, key)\u001B[0m\n\u001B[0;32m   3456\u001B[0m             \u001B[1;32mif\u001B[0m \u001B[0mself\u001B[0m\u001B[1;33m.\u001B[0m\u001B[0mcolumns\u001B[0m\u001B[1;33m.\u001B[0m\u001B[0mnlevels\u001B[0m \u001B[1;33m>\u001B[0m \u001B[1;36m1\u001B[0m\u001B[1;33m:\u001B[0m\u001B[1;33m\u001B[0m\u001B[1;33m\u001B[0m\u001B[0m\n\u001B[0;32m   3457\u001B[0m                 \u001B[1;32mreturn\u001B[0m \u001B[0mself\u001B[0m\u001B[1;33m.\u001B[0m\u001B[0m_getitem_multilevel\u001B[0m\u001B[1;33m(\u001B[0m\u001B[0mkey\u001B[0m\u001B[1;33m)\u001B[0m\u001B[1;33m\u001B[0m\u001B[1;33m\u001B[0m\u001B[0m\n\u001B[1;32m-> 3458\u001B[1;33m             \u001B[0mindexer\u001B[0m \u001B[1;33m=\u001B[0m \u001B[0mself\u001B[0m\u001B[1;33m.\u001B[0m\u001B[0mcolumns\u001B[0m\u001B[1;33m.\u001B[0m\u001B[0mget_loc\u001B[0m\u001B[1;33m(\u001B[0m\u001B[0mkey\u001B[0m\u001B[1;33m)\u001B[0m\u001B[1;33m\u001B[0m\u001B[1;33m\u001B[0m\u001B[0m\n\u001B[0m\u001B[0;32m   3459\u001B[0m             \u001B[1;32mif\u001B[0m \u001B[0mis_integer\u001B[0m\u001B[1;33m(\u001B[0m\u001B[0mindexer\u001B[0m\u001B[1;33m)\u001B[0m\u001B[1;33m:\u001B[0m\u001B[1;33m\u001B[0m\u001B[1;33m\u001B[0m\u001B[0m\n\u001B[0;32m   3460\u001B[0m                 \u001B[0mindexer\u001B[0m \u001B[1;33m=\u001B[0m \u001B[1;33m[\u001B[0m\u001B[0mindexer\u001B[0m\u001B[1;33m]\u001B[0m\u001B[1;33m\u001B[0m\u001B[1;33m\u001B[0m\u001B[0m\n",
      "\u001B[1;32m~\\AppData\\Roaming\\Python\\Python310\\site-packages\\pandas\\core\\indexes\\base.py\u001B[0m in \u001B[0;36mget_loc\u001B[1;34m(self, key, method, tolerance)\u001B[0m\n\u001B[0;32m   3359\u001B[0m             \u001B[0mcasted_key\u001B[0m \u001B[1;33m=\u001B[0m \u001B[0mself\u001B[0m\u001B[1;33m.\u001B[0m\u001B[0m_maybe_cast_indexer\u001B[0m\u001B[1;33m(\u001B[0m\u001B[0mkey\u001B[0m\u001B[1;33m)\u001B[0m\u001B[1;33m\u001B[0m\u001B[1;33m\u001B[0m\u001B[0m\n\u001B[0;32m   3360\u001B[0m             \u001B[1;32mtry\u001B[0m\u001B[1;33m:\u001B[0m\u001B[1;33m\u001B[0m\u001B[1;33m\u001B[0m\u001B[0m\n\u001B[1;32m-> 3361\u001B[1;33m                 \u001B[1;32mreturn\u001B[0m \u001B[0mself\u001B[0m\u001B[1;33m.\u001B[0m\u001B[0m_engine\u001B[0m\u001B[1;33m.\u001B[0m\u001B[0mget_loc\u001B[0m\u001B[1;33m(\u001B[0m\u001B[0mcasted_key\u001B[0m\u001B[1;33m)\u001B[0m\u001B[1;33m\u001B[0m\u001B[1;33m\u001B[0m\u001B[0m\n\u001B[0m\u001B[0;32m   3362\u001B[0m             \u001B[1;32mexcept\u001B[0m \u001B[0mKeyError\u001B[0m \u001B[1;32mas\u001B[0m \u001B[0merr\u001B[0m\u001B[1;33m:\u001B[0m\u001B[1;33m\u001B[0m\u001B[1;33m\u001B[0m\u001B[0m\n\u001B[0;32m   3363\u001B[0m                 \u001B[1;32mraise\u001B[0m \u001B[0mKeyError\u001B[0m\u001B[1;33m(\u001B[0m\u001B[0mkey\u001B[0m\u001B[1;33m)\u001B[0m \u001B[1;32mfrom\u001B[0m \u001B[0merr\u001B[0m\u001B[1;33m\u001B[0m\u001B[1;33m\u001B[0m\u001B[0m\n",
      "\u001B[1;32m~\\AppData\\Roaming\\Python\\Python310\\site-packages\\pandas\\_libs\\index.pyx\u001B[0m in \u001B[0;36mpandas._libs.index.IndexEngine.get_loc\u001B[1;34m()\u001B[0m\n",
      "\u001B[1;32m~\\AppData\\Roaming\\Python\\Python310\\site-packages\\pandas\\_libs\\index.pyx\u001B[0m in \u001B[0;36mpandas._libs.index.IndexEngine.get_loc\u001B[1;34m()\u001B[0m\n",
      "\u001B[1;31mTypeError\u001B[0m: '(0        False\n1        False\n2        False\n3        False\n4        False\n         ...  \n16371     True\n16372    False\n16373     True\n16374    False\n16375     True\nName: align, Length: 16376, dtype: bool, 'appearances')' is an invalid key"
     ]
    }
   ],
   "source": [
    "df[df['align'] == 'Злой персонаж', 'appearances']"
   ],
   "metadata": {
    "collapsed": false,
    "pycharm": {
     "name": "#%%\n"
    }
   }
  },
  {
   "cell_type": "code",
   "execution_count": 32,
   "outputs": [
    {
     "data": {
      "text/plain": "1993.0    256\n1992.0    238\n1994.0    210\n1942.0    175\n1991.0    164\n         ... \n1952.0     10\n1956.0      4\n1958.0      1\n1959.0      1\n1957.0      1\nName: first_appearance, Length: 75, dtype: int64"
     },
     "execution_count": 32,
     "metadata": {},
     "output_type": "execute_result"
    }
   ],
   "source": [
    "df_evil = df[df['align'] == 'Злой персонаж']\n",
    "df_evil.first_appearance.value_counts()"
   ],
   "metadata": {
    "collapsed": false,
    "pycharm": {
     "name": "#%%\n"
    }
   }
  },
  {
   "cell_type": "code",
   "execution_count": 37,
   "outputs": [
    {
     "data": {
      "text/plain": "Темно-карие глаза        1794\nГолубые глаза            1755\nЗеленые глаза             560\nЧерные глаза              543\nКрасные глаза             493\nБелые глаза               388\nЖелтые глаза              248\nСерые глаза                83\nКарие глаза                63\nРазноцветные глаза         43\nФиолетовые глаза           30\nОранжевые глаза            24\nОдин глаз                  20\nРозовые глаза              20\nЗолотые глаза              12\nЛиловые глаза              11\nСеребристые глаза          11\nЯнтарные глаза              9\nМного глаз                  7\nНет глаз                    7\nЖелтые глазные яблоки       6\nПурпурные глаза             2\nЧерные глазные яблоки       1\nФасеточные глаза            1\nName: eye, dtype: int64"
     },
     "execution_count": 37,
     "metadata": {},
     "output_type": "execute_result"
    }
   ],
   "source": [
    "df_del = df.iloc[500:]\n",
    "df_del.eye.value_counts()"
   ],
   "metadata": {
    "collapsed": false,
    "pycharm": {
     "name": "#%%\n"
    }
   }
  },
  {
   "cell_type": "code",
   "execution_count": 45,
   "outputs": [
    {
     "data": {
      "text/plain": "94.13253937689814"
     },
     "execution_count": 45,
     "metadata": {},
     "output_type": "execute_result"
    }
   ],
   "source": [
    "mode_hair = df.hair.value_counts().index[0]\n",
    "new_df = df[df['hair'] == mode_hair]\n",
    "new_df.appearances.std(ddof=0)"
   ],
   "metadata": {
    "collapsed": false,
    "pycharm": {
     "name": "#%%\n"
    }
   }
  },
  {
   "cell_type": "code",
   "execution_count": 46,
   "outputs": [
    {
     "data": {
      "text/plain": "9287.139461894549"
     },
     "execution_count": 46,
     "metadata": {},
     "output_type": "execute_result"
    }
   ],
   "source": [
    "df['appearances'].var(ddof = 0)"
   ],
   "metadata": {
    "collapsed": false,
    "pycharm": {
     "name": "#%%\n"
    }
   }
  }
 ],
 "metadata": {
  "kernelspec": {
   "display_name": "Python 3",
   "language": "python",
   "name": "python3"
  },
  "language_info": {
   "codemirror_mode": {
    "name": "ipython",
    "version": 2
   },
   "file_extension": ".py",
   "mimetype": "text/x-python",
   "name": "python",
   "nbconvert_exporter": "python",
   "pygments_lexer": "ipython2",
   "version": "2.7.6"
  }
 },
 "nbformat": 4,
 "nbformat_minor": 0
}