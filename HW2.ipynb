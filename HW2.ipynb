{
 "cells": [
  {
   "cell_type": "code",
   "execution_count": 5,
   "metadata": {
    "collapsed": true
   },
   "outputs": [],
   "source": [
    "import pandas as pd\n",
    "import matplotlib.pyplot as plt\n",
    "% matplotlib inline"
   ]
  },
  {
   "cell_type": "code",
   "execution_count": 7,
   "outputs": [
    {
     "data": {
      "text/plain": "                                  name                 align            eye  \\\n0            Spider-Man (Peter Parker)       Добрый персонаж    Карие глаза   \n1      Captain America (Steven Rogers)       Добрый персонаж  Голубые глаза   \n2  Wolverine (James \\\"Logan\\\" Howlett)  Нейтральный персонаж  Голубые глаза   \n3    Iron Man (Anthony \\\"Tony\\\" Stark)       Добрый персонаж  Голубые глаза   \n4                  Thor (Thor Odinson)       Добрый персонаж  Голубые глаза   \n\n                hair               sex  appearances  first_appearance  \n0  Каштановые волосы  Мужской персонаж       4043.0            1962.0  \n1       Белые волосы  Мужской персонаж       3360.0            1941.0  \n2      Черные волосы  Мужской персонаж       3061.0            1974.0  \n3      Черные волосы  Мужской персонаж       2961.0            1963.0  \n4       Русые волосы  Мужской персонаж       2258.0            1950.0  ",
      "text/html": "<div>\n<style scoped>\n    .dataframe tbody tr th:only-of-type {\n        vertical-align: middle;\n    }\n\n    .dataframe tbody tr th {\n        vertical-align: top;\n    }\n\n    .dataframe thead th {\n        text-align: right;\n    }\n</style>\n<table border=\"1\" class=\"dataframe\">\n  <thead>\n    <tr style=\"text-align: right;\">\n      <th></th>\n      <th>name</th>\n      <th>align</th>\n      <th>eye</th>\n      <th>hair</th>\n      <th>sex</th>\n      <th>appearances</th>\n      <th>first_appearance</th>\n    </tr>\n  </thead>\n  <tbody>\n    <tr>\n      <th>0</th>\n      <td>Spider-Man (Peter Parker)</td>\n      <td>Добрый персонаж</td>\n      <td>Карие глаза</td>\n      <td>Каштановые волосы</td>\n      <td>Мужской персонаж</td>\n      <td>4043.0</td>\n      <td>1962.0</td>\n    </tr>\n    <tr>\n      <th>1</th>\n      <td>Captain America (Steven Rogers)</td>\n      <td>Добрый персонаж</td>\n      <td>Голубые глаза</td>\n      <td>Белые волосы</td>\n      <td>Мужской персонаж</td>\n      <td>3360.0</td>\n      <td>1941.0</td>\n    </tr>\n    <tr>\n      <th>2</th>\n      <td>Wolverine (James \\\"Logan\\\" Howlett)</td>\n      <td>Нейтральный персонаж</td>\n      <td>Голубые глаза</td>\n      <td>Черные волосы</td>\n      <td>Мужской персонаж</td>\n      <td>3061.0</td>\n      <td>1974.0</td>\n    </tr>\n    <tr>\n      <th>3</th>\n      <td>Iron Man (Anthony \\\"Tony\\\" Stark)</td>\n      <td>Добрый персонаж</td>\n      <td>Голубые глаза</td>\n      <td>Черные волосы</td>\n      <td>Мужской персонаж</td>\n      <td>2961.0</td>\n      <td>1963.0</td>\n    </tr>\n    <tr>\n      <th>4</th>\n      <td>Thor (Thor Odinson)</td>\n      <td>Добрый персонаж</td>\n      <td>Голубые глаза</td>\n      <td>Русые волосы</td>\n      <td>Мужской персонаж</td>\n      <td>2258.0</td>\n      <td>1950.0</td>\n    </tr>\n  </tbody>\n</table>\n</div>"
     },
     "execution_count": 7,
     "metadata": {},
     "output_type": "execute_result"
    }
   ],
   "source": [
    "url = 'Data\\MarvelComicCaracters.csv'\n",
    "df = pd.read_csv(url, sep=';')\n",
    "df.head()"
   ],
   "metadata": {
    "collapsed": false,
    "pycharm": {
     "name": "#%%\n"
    }
   }
  },
  {
   "cell_type": "markdown",
   "source": [
    "По переменной align была построена частотная таблица. Укажите, какие ошибки были допущены в таблице. Чтобы проверить ее, постройте таблицу сами, используя удобную вам программу. Выберите один верный ответ."
   ],
   "metadata": {
    "collapsed": false
   }
  },
  {
   "cell_type": "code",
   "execution_count": 18,
   "outputs": [
    {
     "data": {
      "text/plain": "align\nДобрый персонаж         4636\nЗлой персонаж           6720\nНейтральный персонаж    2208\nName: name, dtype: int64"
     },
     "execution_count": 18,
     "metadata": {},
     "output_type": "execute_result"
    }
   ],
   "source": [
    "df.groupby('align')['name'].count()"
   ],
   "metadata": {
    "collapsed": false,
    "pycharm": {
     "name": "#%%\n"
    }
   }
  },
  {
   "cell_type": "markdown",
   "source": [
    "Определите три наиболее часто встречающих цвета глаз персонажей, выберите из данных только их и заполните частотную таблицу по переменной eye. В вариантах ответов представлены числа, которые могут быть записаны в таблицу. Выберите один верный ответ."
   ],
   "metadata": {
    "collapsed": false
   }
  },
  {
   "cell_type": "code",
   "execution_count": 31,
   "outputs": [
    {
     "data": {
      "text/plain": "eye\nГолубые глаза            1962\nТемно-карие глаза        1924\nЗеленые глаза             613\nЧерные глаза              555\nКрасные глаза             508\nБелые глаза               400\nЖелтые глаза              256\nСерые глаза                95\nКарие глаза                76\nРазноцветные глаза         49\nФиолетовые глаза           31\nОранжевые глаза            25\nОдин глаз                  21\nРозовые глаза              21\nЗолотые глаза              14\nСеребристые глаза          12\nЛиловые глаза              11\nЯнтарные глаза             10\nНет глаз                    7\nМного глаз                  7\nЖелтые глазные яблоки       6\nЧерные глазные яблоки       3\nПурпурные глаза             2\nФасеточные глаза            1\nName: name, dtype: int64"
     },
     "execution_count": 31,
     "metadata": {},
     "output_type": "execute_result"
    }
   ],
   "source": [
    "df.groupby('eye')['name'].count().sort_values(ascending=False)"
   ],
   "metadata": {
    "collapsed": false,
    "pycharm": {
     "name": "#%%\n"
    }
   }
  },
  {
   "cell_type": "markdown",
   "source": [
    "Укажите, верно ли следующее утверждение: у мужских персонажей чаще всего встречаются темно-карие глаза."
   ],
   "metadata": {
    "collapsed": false
   }
  },
  {
   "cell_type": "code",
   "execution_count": 15,
   "outputs": [
    {
     "data": {
      "text/plain": "Темно-карие глаза        1400\nГолубые глаза            1258\nЧерные глаза              394\nКрасные глаза             377\nЗеленые глаза             328\nБелые глаза               292\nЖелтые глаза              174\nСерые глаза                75\nКарие глаза                58\nРазноцветные глаза         28\nОдин глаз                  20\nОранжевые глаза            18\nРозовые глаза              15\nФиолетовые глаза           15\nЗолотые глаза              10\nЯнтарные глаза              8\nМного глаз                  6\nСеребристые глаза           4\nЖелтые глазные яблоки       4\nНет глаз                    3\nЛиловые глаза               3\nЧерные глазные яблоки       1\nФасеточные глаза            1\nName: eye, dtype: int64"
     },
     "execution_count": 15,
     "metadata": {},
     "output_type": "execute_result"
    }
   ],
   "source": [
    "df[df['sex'] == 'Мужской персонаж']['eye'].value_counts()"
   ],
   "metadata": {
    "collapsed": false,
    "pycharm": {
     "name": "#%%\n"
    }
   }
  },
  {
   "cell_type": "code",
   "execution_count": 74,
   "outputs": [
    {
     "data": {
      "text/plain": "eye                    sex                    \nТемно-карие глаза      Мужской персонаж           1400\nГолубые глаза          Мужской персонаж           1258\n                       Женский персонаж            692\nТемно-карие глаза      Женский персонаж            519\nЧерные глаза           Мужской персонаж            394\nКрасные глаза          Мужской персонаж            377\nЗеленые глаза          Мужской персонаж            328\nБелые глаза            Мужской персонаж            292\nЗеленые глаза          Женский персонаж            268\nЖелтые глаза           Мужской персонаж            174\nЧерные глаза           Женский персонаж            137\nБелые глаза            Женский персонаж             82\nКрасные глаза          Женский персонаж             77\nСерые глаза            Мужской персонаж             75\nКарие глаза            Мужской персонаж             58\nЖелтые глаза           Женский персонаж             57\nРазноцветные глаза     Мужской персонаж             28\nОдин глаз              Мужской персонаж             20\nСерые глаза            Женский персонаж             20\nОранжевые глаза        Мужской персонаж             18\nКарие глаза            Женский персонаж             17\nРозовые глаза          Мужской персонаж             15\nФиолетовые глаза       Мужской персонаж             15\n                       Женский персонаж             14\nБелые глаза            Безполый персонаж            10\nЗолотые глаза          Мужской персонаж             10\nЛиловые глаза          Женский персонаж              8\nЯнтарные глаза         Мужской персонаж              8\nРазноцветные глаза     Женский персонаж              7\nМного глаз             Мужской персонаж              6\nСеребристые глаза      Женский персонаж              6\nОранжевые глаза        Женский персонаж              5\nРазноцветные глаза     Безполый персонаж             5\nРозовые глаза          Женский персонаж              5\nСеребристые глаза      Мужской персонаж              4\nЧерные глаза           Безполый персонаж             4\nЖелтые глаза           Безполый персонаж             4\nЖелтые глазные яблоки  Мужской персонаж              4\nЗеленые глаза          Безполый персонаж             3\nЗолотые глаза          Женский персонаж              3\nКрасные глаза          Безполый персонаж             3\nНет глаз               Мужской персонаж              3\nЛиловые глаза          Мужской персонаж              3\nЧерные глазные яблоки  Женский персонаж              2\nПурпурные глаза        Женский персонаж              2\nЯнтарные глаза         Женский персонаж              2\nЖелтые глазные яблоки  Женский персонаж              2\nЧерные глазные яблоки  Мужской персонаж              1\nГолубые глаза          Безполый персонаж             1\nОдин глаз              Женский персонаж              1\nФиолетовые глаза       Безполый персонаж             1\nФасеточные глаза       Мужской персонаж              1\nЗеленые глаза          Гендерфлюидный персонаж       1\nТемно-карие глаза      Гендерфлюидный персонаж       1\nМного глаз             Женский персонаж              1\nНет глаз               Женский персонаж              1\nОранжевые глаза        Безполый персонаж             1\nТемно-карие глаза      Безполый персонаж             1\nName: sex, dtype: int64"
     },
     "execution_count": 74,
     "metadata": {},
     "output_type": "execute_result"
    }
   ],
   "source": [
    "df.groupby(['eye', 'sex'])['sex'].count().sort_values(ascending=False)"
   ],
   "metadata": {
    "collapsed": false,
    "pycharm": {
     "name": "#%%\n"
    }
   }
  },
  {
   "cell_type": "markdown",
   "source": [
    "Постройте частотную таблицу для персонажей женского пола по переменной eye. У скольких из них золотые глаза? Введите ответ в виде целого числа."
   ],
   "metadata": {
    "collapsed": false
   }
  },
  {
   "cell_type": "code",
   "execution_count": 14,
   "outputs": [
    {
     "data": {
      "text/plain": "Голубые глаза            692\nТемно-карие глаза        519\nЗеленые глаза            268\nЧерные глаза             137\nБелые глаза               82\nКрасные глаза             77\nЖелтые глаза              57\nСерые глаза               20\nКарие глаза               17\nФиолетовые глаза          14\nЛиловые глаза              8\nРазноцветные глаза         7\nСеребристые глаза          6\nРозовые глаза              5\nОранжевые глаза            5\nЗолотые глаза              3\nЯнтарные глаза             2\nЖелтые глазные яблоки      2\nЧерные глазные яблоки      2\nПурпурные глаза            2\nНет глаз                   1\nМного глаз                 1\nОдин глаз                  1\nName: eye, dtype: int64"
     },
     "execution_count": 14,
     "metadata": {},
     "output_type": "execute_result"
    }
   ],
   "source": [
    "df[df['sex'] == 'Женский персонаж']['eye'].value_counts()"
   ],
   "metadata": {
    "collapsed": false,
    "pycharm": {
     "name": "#%%\n"
    }
   }
  },
  {
   "cell_type": "markdown",
   "source": [
    "Сколько раз появлялся добрый персонаж с пурпурными глазами? Введите ответ в виде целого числа."
   ],
   "metadata": {
    "collapsed": false
   }
  },
  {
   "cell_type": "code",
   "execution_count": 13,
   "outputs": [
    {
     "data": {
      "text/plain": "                       name            align              eye  \\\n1729  Fireflyte (Earth-616)  Добрый персонаж  Пурпурные глаза   \n\n                  hair               sex  appearances  first_appearance  \n1729  Пурпурные волосы  Женский персонаж         21.0            1981.0  ",
      "text/html": "<div>\n<style scoped>\n    .dataframe tbody tr th:only-of-type {\n        vertical-align: middle;\n    }\n\n    .dataframe tbody tr th {\n        vertical-align: top;\n    }\n\n    .dataframe thead th {\n        text-align: right;\n    }\n</style>\n<table border=\"1\" class=\"dataframe\">\n  <thead>\n    <tr style=\"text-align: right;\">\n      <th></th>\n      <th>name</th>\n      <th>align</th>\n      <th>eye</th>\n      <th>hair</th>\n      <th>sex</th>\n      <th>appearances</th>\n      <th>first_appearance</th>\n    </tr>\n  </thead>\n  <tbody>\n    <tr>\n      <th>1729</th>\n      <td>Fireflyte (Earth-616)</td>\n      <td>Добрый персонаж</td>\n      <td>Пурпурные глаза</td>\n      <td>Пурпурные волосы</td>\n      <td>Женский персонаж</td>\n      <td>21.0</td>\n      <td>1981.0</td>\n    </tr>\n  </tbody>\n</table>\n</div>"
     },
     "execution_count": 13,
     "metadata": {},
     "output_type": "execute_result"
    }
   ],
   "source": [
    "df[(df['align'] == 'Добрый персонаж') & (df['eye'] == 'Пурпурные глаза')]"
   ],
   "metadata": {
    "collapsed": false,
    "pycharm": {
     "name": "#%%\n"
    }
   }
  },
  {
   "cell_type": "code",
   "execution_count": 81,
   "outputs": [
    {
     "data": {
      "text/plain": "<AxesSubplot:xlabel='eye'>"
     },
     "execution_count": 81,
     "metadata": {},
     "output_type": "execute_result"
    },
    {
     "data": {
      "text/plain": "<Figure size 432x288 with 1 Axes>",
      "image/png": "[encoded data removed]"
     },
     "metadata": {
      "needs_background": "light"
     },
     "output_type": "display_data"
    }
   ],
   "source": [
    "df.groupby('eye')['align'].count().sort_values(ascending=False).plot(kind='bar')"
   ],
   "metadata": {
    "collapsed": false,
    "pycharm": {
     "name": "#%%\n"
    }
   }
  },
  {
   "cell_type": "markdown",
   "source": [
    "Сколько процентов (от общего числа персонажей) составляют мужские персонажи, которые появлялись больше 100 раз? В ответ запишите число (процент от 0 до 100), округлите до целого."
   ],
   "metadata": {
    "collapsed": false
   }
  },
  {
   "cell_type": "code",
   "execution_count": 12,
   "outputs": [
    {
     "data": {
      "text/plain": "2"
     },
     "execution_count": 12,
     "metadata": {},
     "output_type": "execute_result"
    }
   ],
   "source": [
    "round(100 * df[(df['appearances'] > 100) & (df['sex'] == 'Мужской персонаж')].shape[0] / df['name'].shape[0])"
   ],
   "metadata": {
    "collapsed": false,
    "pycharm": {
     "name": "#%%\n"
    }
   }
  },
  {
   "cell_type": "code",
   "execution_count": null,
   "outputs": [],
   "source": [],
   "metadata": {
    "collapsed": false,
    "pycharm": {
     "name": "#%%\n"
    }
   }
  }
 ],
 "metadata": {
  "kernelspec": {
   "display_name": "Python 3",
   "language": "python",
   "name": "python3"
  },
  "language_info": {
   "codemirror_mode": {
    "name": "ipython",
    "version": 2
   },
   "file_extension": ".py",
   "mimetype": "text/x-python",
   "name": "python",
   "nbconvert_exporter": "python",
   "pygments_lexer": "ipython2",
   "version": "2.7.6"
  }
 },
 "nbformat": 4,
 "nbformat_minor": 0
}