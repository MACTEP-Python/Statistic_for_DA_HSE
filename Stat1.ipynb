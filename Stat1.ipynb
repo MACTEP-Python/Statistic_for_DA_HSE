{
 "cells": [
  {
   "cell_type": "markdown",
   "source": [
    "Мой блокнот для курса \"Статистика для Анализа данных от ВШЭ\""
   ],
   "metadata": {
    "collapsed": false,
    "pycharm": {
     "name": "#%% md\n"
    }
   }
  },
  {
   "cell_type": "code",
   "execution_count": 1,
   "outputs": [],
   "source": [
    "import pandas as pd\n",
    "import numpy as np"
   ],
   "metadata": {
    "collapsed": false,
    "pycharm": {
     "name": "#%%\n"
    }
   }
  },
  {
   "cell_type": "code",
   "execution_count": 2,
   "outputs": [],
   "source": [
    "url = 'https://courses.openedu.ru/assets/courseware/v1/8d2f7aeef389659e393201af977b99b5/asset-v1:hse+STATDA+2021+type@asset+block/BikesDataVars.pkl'"
   ],
   "metadata": {
    "collapsed": false,
    "pycharm": {
     "name": "#%%\n"
    }
   }
  },
  {
   "cell_type": "code",
   "execution_count": 3,
   "outputs": [
    {
     "data": {
      "text/plain": "        Date  Hour  Temperature  Humidity  Wind speed  Rainfall  Snowfall  \\\n0 2017-12-01     0         -5.2        37         2.2       0.0       0.0   \n1 2017-12-01     1         -5.5        38         0.8       0.0       0.0   \n2 2017-12-01     2         -6.0        39         1.0       0.0       0.0   \n3 2017-12-01     3         -6.2        40         0.9       0.0       0.0   \n4 2017-12-01     4         -6.0        36         2.3       0.0       0.0   \n\n  Seasons  Holiday  Functioning Day  Rental Count  Normal Humidity  \\\n0  Winter        0             True           257                0   \n1  Winter        0             True           219                0   \n2  Winter        0             True           162                0   \n3  Winter        0             True           148                1   \n4  Winter        0             True            97                0   \n\n  Temperature Category  Good Weather  \n0             Freezing             0  \n1             Freezing             0  \n2             Freezing             0  \n3             Freezing             0  \n4             Freezing             0  ",
      "text/html": "<div>\n<style scoped>\n    .dataframe tbody tr th:only-of-type {\n        vertical-align: middle;\n    }\n\n    .dataframe tbody tr th {\n        vertical-align: top;\n    }\n\n    .dataframe thead th {\n        text-align: right;\n    }\n</style>\n<table border=\"1\" class=\"dataframe\">\n  <thead>\n    <tr style=\"text-align: right;\">\n      <th></th>\n      <th>Date</th>\n      <th>Hour</th>\n      <th>Temperature</th>\n      <th>Humidity</th>\n      <th>Wind speed</th>\n      <th>Rainfall</th>\n      <th>Snowfall</th>\n      <th>Seasons</th>\n      <th>Holiday</th>\n      <th>Functioning Day</th>\n      <th>Rental Count</th>\n      <th>Normal Humidity</th>\n      <th>Temperature Category</th>\n      <th>Good Weather</th>\n    </tr>\n  </thead>\n  <tbody>\n    <tr>\n      <th>0</th>\n      <td>2017-12-01</td>\n      <td>0</td>\n      <td>-5.2</td>\n      <td>37</td>\n      <td>2.2</td>\n      <td>0.0</td>\n      <td>0.0</td>\n      <td>Winter</td>\n      <td>0</td>\n      <td>True</td>\n      <td>257</td>\n      <td>0</td>\n      <td>Freezing</td>\n      <td>0</td>\n    </tr>\n    <tr>\n      <th>1</th>\n      <td>2017-12-01</td>\n      <td>1</td>\n      <td>-5.5</td>\n      <td>38</td>\n      <td>0.8</td>\n      <td>0.0</td>\n      <td>0.0</td>\n      <td>Winter</td>\n      <td>0</td>\n      <td>True</td>\n      <td>219</td>\n      <td>0</td>\n      <td>Freezing</td>\n      <td>0</td>\n    </tr>\n    <tr>\n      <th>2</th>\n      <td>2017-12-01</td>\n      <td>2</td>\n      <td>-6.0</td>\n      <td>39</td>\n      <td>1.0</td>\n      <td>0.0</td>\n      <td>0.0</td>\n      <td>Winter</td>\n      <td>0</td>\n      <td>True</td>\n      <td>162</td>\n      <td>0</td>\n      <td>Freezing</td>\n      <td>0</td>\n    </tr>\n    <tr>\n      <th>3</th>\n      <td>2017-12-01</td>\n      <td>3</td>\n      <td>-6.2</td>\n      <td>40</td>\n      <td>0.9</td>\n      <td>0.0</td>\n      <td>0.0</td>\n      <td>Winter</td>\n      <td>0</td>\n      <td>True</td>\n      <td>148</td>\n      <td>1</td>\n      <td>Freezing</td>\n      <td>0</td>\n    </tr>\n    <tr>\n      <th>4</th>\n      <td>2017-12-01</td>\n      <td>4</td>\n      <td>-6.0</td>\n      <td>36</td>\n      <td>2.3</td>\n      <td>0.0</td>\n      <td>0.0</td>\n      <td>Winter</td>\n      <td>0</td>\n      <td>True</td>\n      <td>97</td>\n      <td>0</td>\n      <td>Freezing</td>\n      <td>0</td>\n    </tr>\n  </tbody>\n</table>\n</div>"
     },
     "execution_count": 3,
     "metadata": {},
     "output_type": "execute_result"
    }
   ],
   "source": [
    "df = pd.read_pickle(url)\n",
    "df.head(5)"
   ],
   "metadata": {
    "collapsed": false,
    "pycharm": {
     "name": "#%%\n"
    }
   }
  },
  {
   "cell_type": "code",
   "execution_count": 19,
   "outputs": [
    {
     "name": "stdout",
     "output_type": "stream",
     "text": [
      "[2, 5, 8]\n"
     ]
    }
   ],
   "source": [
    "xx = [1, 2, 3]\n",
    "yy = [1, 3, 5]\n",
    "print([i+j for i, j in zip(xx, yy)])"
   ],
   "metadata": {
    "collapsed": false,
    "pycharm": {
     "name": "#%%\n"
    }
   }
  },
  {
   "cell_type": "code",
   "execution_count": 23,
   "outputs": [
    {
     "name": "stdout",
     "output_type": "stream",
     "text": [
      "Matrix [[1 2 3]\n",
      " [1 3 5]], SHAPE (2, 3), SIZE 6\n"
     ]
    }
   ],
   "source": [
    "M = np.array([xx,yy])\n",
    "print(f'Matrix {M}, SHAPE {M.shape}, SIZE {M.size}')"
   ],
   "metadata": {
    "collapsed": false,
    "pycharm": {
     "name": "#%%\n"
    }
   }
  },
  {
   "cell_type": "code",
   "execution_count": null,
   "outputs": [],
   "source": [
    "import time\n",
    "\n",
    "size: int = 1_000_000"
   ],
   "metadata": {
    "collapsed": false,
    "pycharm": {
     "name": "#%%\n"
    }
   }
  },
  {
   "cell_type": "code",
   "execution_count": 2,
   "outputs": [],
   "source": [
    "x = [13, 21, 30, 65, 50]\n",
    "y = [200, 90, 10, 83, 12]"
   ],
   "metadata": {
    "collapsed": false,
    "pycharm": {
     "name": "#%%\n"
    }
   }
  },
  {
   "cell_type": "code",
   "execution_count": 8,
   "outputs": [
    {
     "data": {
      "text/plain": "          x         y\nx  1.000000 -0.506545\ny -0.506545  1.000000",
      "text/html": "<div>\n<style scoped>\n    .dataframe tbody tr th:only-of-type {\n        vertical-align: middle;\n    }\n\n    .dataframe tbody tr th {\n        vertical-align: top;\n    }\n\n    .dataframe thead th {\n        text-align: right;\n    }\n</style>\n<table border=\"1\" class=\"dataframe\">\n  <thead>\n    <tr style=\"text-align: right;\">\n      <th></th>\n      <th>x</th>\n      <th>y</th>\n    </tr>\n  </thead>\n  <tbody>\n    <tr>\n      <th>x</th>\n      <td>1.000000</td>\n      <td>-0.506545</td>\n    </tr>\n    <tr>\n      <th>y</th>\n      <td>-0.506545</td>\n      <td>1.000000</td>\n    </tr>\n  </tbody>\n</table>\n</div>"
     },
     "execution_count": 8,
     "metadata": {},
     "output_type": "execute_result"
    }
   ],
   "source": [
    "df = pd.DataFrame({'x': x, 'y': y}, index=range(len(x)))\n",
    "df.corr()\n"
   ],
   "metadata": {
    "collapsed": false,
    "pycharm": {
     "name": "#%%\n"
    }
   }
  }
 ],
 "metadata": {
  "kernelspec": {
   "display_name": "Python 3",
   "language": "python",
   "name": "python3"
  },
  "language_info": {
   "codemirror_mode": {
    "name": "ipython",
    "version": 2
   },
   "file_extension": ".py",
   "mimetype": "text/x-python",
   "name": "python",
   "nbconvert_exporter": "python",
   "pygments_lexer": "ipython2",
   "version": "2.7.6"
  }
 },
 "nbformat": 4,
 "nbformat_minor": 0
}