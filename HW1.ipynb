{
 "cells": [
  {
   "cell_type": "code",
   "execution_count": 1,
   "metadata": {
    "collapsed": true
   },
   "outputs": [],
   "source": [
    "import numpy as np\n",
    "import pandas as pd"
   ]
  },
  {
   "cell_type": "code",
   "execution_count": 84,
   "outputs": [
    {
     "name": "stdout",
     "output_type": "stream",
     "text": [
      "<class 'pandas.core.frame.DataFrame'>\n",
      "RangeIndex: 1186 entries, 0 to 1185\n",
      "Data columns (total 9 columns):\n",
      " #   Column                Non-Null Count  Dtype \n",
      "---  ------                --------------  ----- \n",
      " 0   respondentID          1186 non-null   int64 \n",
      " 1   seen                  1186 non-null   object\n",
      " 2   fan                   836 non-null    object\n",
      " 3   gender                1046 non-null   object\n",
      " 4   age_group             1046 non-null   object\n",
      " 5   income                858 non-null    object\n",
      " 6   loc                   1043 non-null   object\n",
      " 7   yoda                  826 non-null    object\n",
      " 8   princess_leia_organa  831 non-null    object\n",
      "dtypes: int64(1), object(8)\n",
      "memory usage: 83.5+ KB\n"
     ]
    },
    {
     "data": {
      "text/plain": "   respondentID seen  fan gender age_group             income  \\\n0    3292879998   да   да      М     18-29                NaN   \n1    3292879538  нет  NaN      М     18-29         0 - 24.999   \n2    3292765271   да  нет      М     18-29         0 - 24.999   \n3    3292763116   да   да      М     18-29  100.000 - 149.999   \n4    3292731220   да   да      М     18-29  100.000 - 149.999   \n\n                           loc                      yoda princess_leia_organa  \n0           Южно-Атлантический            очень нравится       очень нравится  \n1     Юго-Западный центральный                       NaN                  NaN  \n2  Северо-Западный центральный  не знаю такого персонажа             нравится  \n3  Северо-Западный центральный            очень нравится       очень нравится  \n4  Северо-Западный центральный                  нравится             нравится  ",
      "text/html": "<div>\n<style scoped>\n    .dataframe tbody tr th:only-of-type {\n        vertical-align: middle;\n    }\n\n    .dataframe tbody tr th {\n        vertical-align: top;\n    }\n\n    .dataframe thead th {\n        text-align: right;\n    }\n</style>\n<table border=\"1\" class=\"dataframe\">\n  <thead>\n    <tr style=\"text-align: right;\">\n      <th></th>\n      <th>respondentID</th>\n      <th>seen</th>\n      <th>fan</th>\n      <th>gender</th>\n      <th>age_group</th>\n      <th>income</th>\n      <th>loc</th>\n      <th>yoda</th>\n      <th>princess_leia_organa</th>\n    </tr>\n  </thead>\n  <tbody>\n    <tr>\n      <th>0</th>\n      <td>3292879998</td>\n      <td>да</td>\n      <td>да</td>\n      <td>М</td>\n      <td>18-29</td>\n      <td>NaN</td>\n      <td>Южно-Атлантический</td>\n      <td>очень нравится</td>\n      <td>очень нравится</td>\n    </tr>\n    <tr>\n      <th>1</th>\n      <td>3292879538</td>\n      <td>нет</td>\n      <td>NaN</td>\n      <td>М</td>\n      <td>18-29</td>\n      <td>0 - 24.999</td>\n      <td>Юго-Западный центральный</td>\n      <td>NaN</td>\n      <td>NaN</td>\n    </tr>\n    <tr>\n      <th>2</th>\n      <td>3292765271</td>\n      <td>да</td>\n      <td>нет</td>\n      <td>М</td>\n      <td>18-29</td>\n      <td>0 - 24.999</td>\n      <td>Северо-Западный центральный</td>\n      <td>не знаю такого персонажа</td>\n      <td>нравится</td>\n    </tr>\n    <tr>\n      <th>3</th>\n      <td>3292763116</td>\n      <td>да</td>\n      <td>да</td>\n      <td>М</td>\n      <td>18-29</td>\n      <td>100.000 - 149.999</td>\n      <td>Северо-Западный центральный</td>\n      <td>очень нравится</td>\n      <td>очень нравится</td>\n    </tr>\n    <tr>\n      <th>4</th>\n      <td>3292731220</td>\n      <td>да</td>\n      <td>да</td>\n      <td>М</td>\n      <td>18-29</td>\n      <td>100.000 - 149.999</td>\n      <td>Северо-Западный центральный</td>\n      <td>нравится</td>\n      <td>нравится</td>\n    </tr>\n  </tbody>\n</table>\n</div>"
     },
     "execution_count": 84,
     "metadata": {},
     "output_type": "execute_result"
    }
   ],
   "source": [
    "df = pd.read_csv('Data\\StarWars.csv', sep=';')\n",
    "df.info()\n",
    "df.head(5)"
   ],
   "metadata": {
    "collapsed": false,
    "pycharm": {
     "name": "#%%\n"
    }
   }
  },
  {
   "cell_type": "markdown",
   "source": [
    "Укажите, верно ли следующее утверждение: все женщины старше 60 лет, входящие в категорию с наивысшим доходом и являющиеся фанатами серии фильмов, проживают в одном регионе.\n",
    "Ответ: Неверно"
   ],
   "metadata": {
    "collapsed": false
   }
  },
  {
   "cell_type": "code",
   "execution_count": 28,
   "outputs": [
    {
     "data": {
      "text/plain": "     respondentID seen fan gender age_group    income  \\\n162    3291141478   да  да      Ж      > 60  150.000+   \n522    3290342102   да  да      Ж      > 60  150.000+   \n671    3289963393   да  да      Ж      > 60  150.000+   \n\n                             loc            yoda princess_leia_organa  \n162                Тихоокеанский  очень нравится       очень нравится  \n522  Северо-Западный центральный  очень нравится       очень нравится  \n671                       Горный  очень нравится       очень нравится  ",
      "text/html": "<div>\n<style scoped>\n    .dataframe tbody tr th:only-of-type {\n        vertical-align: middle;\n    }\n\n    .dataframe tbody tr th {\n        vertical-align: top;\n    }\n\n    .dataframe thead th {\n        text-align: right;\n    }\n</style>\n<table border=\"1\" class=\"dataframe\">\n  <thead>\n    <tr style=\"text-align: right;\">\n      <th></th>\n      <th>respondentID</th>\n      <th>seen</th>\n      <th>fan</th>\n      <th>gender</th>\n      <th>age_group</th>\n      <th>income</th>\n      <th>loc</th>\n      <th>yoda</th>\n      <th>princess_leia_organa</th>\n    </tr>\n  </thead>\n  <tbody>\n    <tr>\n      <th>162</th>\n      <td>3291141478</td>\n      <td>да</td>\n      <td>да</td>\n      <td>Ж</td>\n      <td>&gt; 60</td>\n      <td>150.000+</td>\n      <td>Тихоокеанский</td>\n      <td>очень нравится</td>\n      <td>очень нравится</td>\n    </tr>\n    <tr>\n      <th>522</th>\n      <td>3290342102</td>\n      <td>да</td>\n      <td>да</td>\n      <td>Ж</td>\n      <td>&gt; 60</td>\n      <td>150.000+</td>\n      <td>Северо-Западный центральный</td>\n      <td>очень нравится</td>\n      <td>очень нравится</td>\n    </tr>\n    <tr>\n      <th>671</th>\n      <td>3289963393</td>\n      <td>да</td>\n      <td>да</td>\n      <td>Ж</td>\n      <td>&gt; 60</td>\n      <td>150.000+</td>\n      <td>Горный</td>\n      <td>очень нравится</td>\n      <td>очень нравится</td>\n    </tr>\n  </tbody>\n</table>\n</div>"
     },
     "execution_count": 28,
     "metadata": {},
     "output_type": "execute_result"
    }
   ],
   "source": [
    "df[(df['age_group'] == '> 60') &\n",
    "         (df['income'] == '150.000+') &\n",
    "         (df['gender'] == 'Ж') &\n",
    "         (df['fan'] == 'да')]"
   ],
   "metadata": {
    "collapsed": false,
    "pycharm": {
     "name": "#%%\n"
    }
   }
  },
  {
   "cell_type": "markdown",
   "source": [
    "Какой регион проживания чаще всего встречается в данных? Выберите один верный ответ."
   ],
   "metadata": {
    "collapsed": false
   }
  },
  {
   "cell_type": "code",
   "execution_count": 43,
   "outputs": [
    {
     "data": {
      "text/plain": "Северо-Восточный центральный    181\nТихоокеанский                   175\nЮжно-Атлантический              170\nСредне-Атлантический            122\nЮго-Западный центральный        110\nСеверо-Западный центральный      93\nГорный                           79\nНовая Англия                     75\nЮго-Восточный центральный        38\nName: loc, dtype: int64"
     },
     "execution_count": 43,
     "metadata": {},
     "output_type": "execute_result"
    }
   ],
   "source": [
    "df['loc'].value_counts()"
   ],
   "metadata": {
    "collapsed": false,
    "pycharm": {
     "name": "#%%\n"
    }
   }
  },
  {
   "cell_type": "markdown",
   "source": [
    "Сколько респондентов не назвали свой доход? Выберите один верный ответ."
   ],
   "metadata": {
    "collapsed": false
   }
  },
  {
   "cell_type": "code",
   "execution_count": 57,
   "outputs": [
    {
     "data": {
      "text/plain": "(328, 9)"
     },
     "execution_count": 57,
     "metadata": {},
     "output_type": "execute_result"
    }
   ],
   "source": [
    "df[df['income'].isna()].shape"
   ],
   "metadata": {
    "collapsed": false,
    "pycharm": {
     "name": "#%%\n"
    }
   }
  },
  {
   "cell_type": "markdown",
   "source": [],
   "metadata": {
    "collapsed": false
   }
  },
  {
   "cell_type": "markdown",
   "source": [
    "Скольким респондентам одновременно очень нравятся Йода и принцесса Лея Органа? Выберите один верный ответ."
   ],
   "metadata": {
    "collapsed": false
   }
  },
  {
   "cell_type": "code",
   "execution_count": 60,
   "outputs": [
    {
     "data": {
      "text/plain": "(462, 9)"
     },
     "execution_count": 60,
     "metadata": {},
     "output_type": "execute_result"
    }
   ],
   "source": [
    "df[(df['yoda'] == 'очень нравится') & (df['princess_leia_organa'] == 'очень нравится')].shape"
   ],
   "metadata": {
    "collapsed": false,
    "pycharm": {
     "name": "#%%\n"
    }
   }
  },
  {
   "cell_type": "markdown",
   "source": [
    "Сколько респондентов не видели ни одного фильма серии, но считают себя ее фанатами? Введите ответ в виде целого числа."
   ],
   "metadata": {
    "collapsed": false
   }
  },
  {
   "cell_type": "code",
   "execution_count": 66,
   "outputs": [
    {
     "data": {
      "text/plain": "array([nan], dtype=object)"
     },
     "execution_count": 66,
     "metadata": {},
     "output_type": "execute_result"
    }
   ],
   "source": [
    "df['fan'][df['seen'] == 'нет'].unique()"
   ],
   "metadata": {
    "collapsed": false,
    "pycharm": {
     "name": "#%%\n"
    }
   }
  },
  {
   "cell_type": "code",
   "execution_count": 70,
   "outputs": [
    {
     "data": {
      "text/plain": "   respondentID seen  fan gender age_group             income  \\\n0    3292879998   да   да      М     18-29                NaN   \n1    3292879538  нет  NaN      М     18-29         0 - 24.999   \n2    3292765271   да  нет      М     18-29         0 - 24.999   \n3    3292763116   да   да      М     18-29  100.000 - 149.999   \n4    3292731220   да   да      М     18-29  100.000 - 149.999   \n\n                           loc                      yoda princess_leia_organa  \n0           Южно-Атлантический            очень нравится       очень нравится  \n1     Юго-Западный центральный                       NaN                  NaN  \n2  Северо-Западный центральный  не знаю такого персонажа             нравится  \n3  Северо-Западный центральный            очень нравится       очень нравится  \n4  Северо-Западный центральный                  нравится             нравится  ",
      "text/html": "<div>\n<style scoped>\n    .dataframe tbody tr th:only-of-type {\n        vertical-align: middle;\n    }\n\n    .dataframe tbody tr th {\n        vertical-align: top;\n    }\n\n    .dataframe thead th {\n        text-align: right;\n    }\n</style>\n<table border=\"1\" class=\"dataframe\">\n  <thead>\n    <tr style=\"text-align: right;\">\n      <th></th>\n      <th>respondentID</th>\n      <th>seen</th>\n      <th>fan</th>\n      <th>gender</th>\n      <th>age_group</th>\n      <th>income</th>\n      <th>loc</th>\n      <th>yoda</th>\n      <th>princess_leia_organa</th>\n    </tr>\n  </thead>\n  <tbody>\n    <tr>\n      <th>0</th>\n      <td>3292879998</td>\n      <td>да</td>\n      <td>да</td>\n      <td>М</td>\n      <td>18-29</td>\n      <td>NaN</td>\n      <td>Южно-Атлантический</td>\n      <td>очень нравится</td>\n      <td>очень нравится</td>\n    </tr>\n    <tr>\n      <th>1</th>\n      <td>3292879538</td>\n      <td>нет</td>\n      <td>NaN</td>\n      <td>М</td>\n      <td>18-29</td>\n      <td>0 - 24.999</td>\n      <td>Юго-Западный центральный</td>\n      <td>NaN</td>\n      <td>NaN</td>\n    </tr>\n    <tr>\n      <th>2</th>\n      <td>3292765271</td>\n      <td>да</td>\n      <td>нет</td>\n      <td>М</td>\n      <td>18-29</td>\n      <td>0 - 24.999</td>\n      <td>Северо-Западный центральный</td>\n      <td>не знаю такого персонажа</td>\n      <td>нравится</td>\n    </tr>\n    <tr>\n      <th>3</th>\n      <td>3292763116</td>\n      <td>да</td>\n      <td>да</td>\n      <td>М</td>\n      <td>18-29</td>\n      <td>100.000 - 149.999</td>\n      <td>Северо-Западный центральный</td>\n      <td>очень нравится</td>\n      <td>очень нравится</td>\n    </tr>\n    <tr>\n      <th>4</th>\n      <td>3292731220</td>\n      <td>да</td>\n      <td>да</td>\n      <td>М</td>\n      <td>18-29</td>\n      <td>100.000 - 149.999</td>\n      <td>Северо-Западный центральный</td>\n      <td>нравится</td>\n      <td>нравится</td>\n    </tr>\n  </tbody>\n</table>\n</div>"
     },
     "execution_count": 70,
     "metadata": {},
     "output_type": "execute_result"
    }
   ],
   "source": [
    "df.head()"
   ],
   "metadata": {
    "collapsed": false,
    "pycharm": {
     "name": "#%%\n"
    }
   }
  },
  {
   "cell_type": "code",
   "execution_count": 69,
   "outputs": [
    {
     "data": {
      "text/plain": "(1186, 9)"
     },
     "execution_count": 69,
     "metadata": {},
     "output_type": "execute_result"
    }
   ],
   "source": [
    "df[(df['age_group'] == 'NaN') &\n",
    "         (df['income'] == 'NaN') &\n",
    "         (df['gender'] == 'NaN') &\n",
    "         (df['fan'] == 'NaN')]"
   ],
   "metadata": {
    "collapsed": false,
    "pycharm": {
     "name": "#%%\n"
    }
   }
  },
  {
   "cell_type": "code",
   "execution_count": 88,
   "outputs": [
    {
     "data": {
      "text/plain": "True"
     },
     "execution_count": 88,
     "metadata": {},
     "output_type": "execute_result"
    }
   ],
   "source": [
    "all(df[['seen', 'fan', 'gender', 'age_group', 'income', 'loc', 'yoda', 'princess_leia_organa']] == 'NaN')"
   ],
   "metadata": {
    "collapsed": false,
    "pycharm": {
     "name": "#%%\n"
    }
   }
  },
  {
   "cell_type": "code",
   "execution_count": 85,
   "outputs": [
    {
     "name": "stdout",
     "output_type": "stream",
     "text": [
      "<class 'pandas.core.frame.DataFrame'>\n",
      "RangeIndex: 1186 entries, 0 to 1185\n",
      "Data columns (total 9 columns):\n",
      " #   Column                Non-Null Count  Dtype \n",
      "---  ------                --------------  ----- \n",
      " 0   respondentID          1186 non-null   int64 \n",
      " 1   seen                  1186 non-null   object\n",
      " 2   fan                   836 non-null    object\n",
      " 3   gender                1046 non-null   object\n",
      " 4   age_group             1046 non-null   object\n",
      " 5   income                858 non-null    object\n",
      " 6   loc                   1043 non-null   object\n",
      " 7   yoda                  826 non-null    object\n",
      " 8   princess_leia_organa  831 non-null    object\n",
      "dtypes: int64(1), object(8)\n",
      "memory usage: 83.5+ KB\n"
     ]
    }
   ],
   "source": [
    "df.info()"
   ],
   "metadata": {
    "collapsed": false,
    "pycharm": {
     "name": "#%%\n"
    }
   }
  },
  {
   "cell_type": "code",
   "execution_count": 92,
   "outputs": [
    {
     "data": {
      "text/plain": "1186"
     },
     "execution_count": 92,
     "metadata": {},
     "output_type": "execute_result"
    }
   ],
   "source": [
    "df['seen'].value_counts().sum()"
   ],
   "metadata": {
    "collapsed": false,
    "pycharm": {
     "name": "#%%\n"
    }
   }
  },
  {
   "cell_type": "code",
   "execution_count": null,
   "outputs": [],
   "source": [],
   "metadata": {
    "collapsed": false,
    "pycharm": {
     "name": "#%%\n"
    }
   }
  }
 ],
 "metadata": {
  "kernelspec": {
   "display_name": "Python 3",
   "language": "python",
   "name": "python3"
  },
  "language_info": {
   "codemirror_mode": {
    "name": "ipython",
    "version": 2
   },
   "file_extension": ".py",
   "mimetype": "text/x-python",
   "name": "python",
   "nbconvert_exporter": "python",
   "pygments_lexer": "ipython2",
   "version": "2.7.6"
  }
 },
 "nbformat": 4,
 "nbformat_minor": 0
}