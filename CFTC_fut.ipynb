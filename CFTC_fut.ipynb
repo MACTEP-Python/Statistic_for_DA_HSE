{
 "cells": [
  {
   "cell_type": "code",
   "execution_count": 4,
   "metadata": {
    "collapsed": true
   },
   "outputs": [],
   "source": [
    "import pandas as pd\n",
    "import numpy as np\n",
    "import xlrd"
   ]
  },
  {
   "cell_type": "code",
   "execution_count": 5,
   "outputs": [
    {
     "data": {
      "text/plain": "            Market_and_Exchange_Names  As_of_Date_In_Form_YYMMDD  \\\n0  WHEAT-SRW - CHICAGO BOARD OF TRADE                     211228   \n1  WHEAT-SRW - CHICAGO BOARD OF TRADE                     211221   \n2  WHEAT-SRW - CHICAGO BOARD OF TRADE                     211214   \n3  WHEAT-SRW - CHICAGO BOARD OF TRADE                     211207   \n4  WHEAT-SRW - CHICAGO BOARD OF TRADE                     211130   \n\n  Report_Date_as_MM_DD_YYYY CFTC_Contract_Market_Code CFTC_Market_Code  \\\n0                2021-12-28                    001602             CBT    \n1                2021-12-21                    001602             CBT    \n2                2021-12-14                    001602             CBT    \n3                2021-12-07                    001602             CBT    \n4                2021-11-30                    001602             CBT    \n\n   CFTC_Region_Code  CFTC_Commodity_Code  Open_Interest_All  \\\n0                 0                    1             356439   \n1                 0                    1             357381   \n2                 0                    1             361469   \n3                 0                    1             359186   \n4                 0                    1             371575   \n\n   Prod_Merc_Positions_Long_ALL  Prod_Merc_Positions_Short_ALL  ...  \\\n0                         36136                         109537  ...   \n1                         34715                         108341  ...   \n2                         31389                         106281  ...   \n3                         30223                         108626  ...   \n4                         32389                         113621  ...   \n\n   Conc_Gross_LE_4_TDR_Short_Other  Conc_Gross_LE_8_TDR_Long_Other  \\\n0                             19.6                            36.9   \n1                             19.9                            35.9   \n2                             21.1                            36.5   \n3                             22.2                            38.1   \n4                             23.2                            38.4   \n\n   Conc_Gross_LE_8_TDR_Short_Other  Conc_Net_LE_4_TDR_Long_Other  \\\n0                             30.3                          17.9   \n1                             31.3                          17.5   \n2                             32.1                          17.7   \n3                             34.0                          19.0   \n4                             34.9                          20.1   \n\n   Conc_Net_LE_4_TDR_Short_Other  Conc_Net_LE_8_TDR_Long_Other  \\\n0                           14.3                          30.4   \n1                           15.7                          30.2   \n2                           16.5                          29.8   \n3                           18.2                          31.2   \n4                           19.8                          32.2   \n\n   Conc_Net_LE_8_TDR_Short_Other                Contract_Units  \\\n0                           23.2  (CONTRACTS OF 5,000 BUSHELS)   \n1                           25.1  (CONTRACTS OF 5,000 BUSHELS)   \n2                           25.3  (CONTRACTS OF 5,000 BUSHELS)   \n3                           26.8  (CONTRACTS OF 5,000 BUSHELS)   \n4                           28.5  (CONTRACTS OF 5,000 BUSHELS)   \n\n   CFTC_SubGroup_Code  FutOnly_or_Combined  \n0                 A10              FutOnly  \n1                 A10              FutOnly  \n2                 A10              FutOnly  \n3                 A10              FutOnly  \n4                 A10              FutOnly  \n\n[5 rows x 188 columns]",
      "text/html": "<div>\n<style scoped>\n    .dataframe tbody tr th:only-of-type {\n        vertical-align: middle;\n    }\n\n    .dataframe tbody tr th {\n        vertical-align: top;\n    }\n\n    .dataframe thead th {\n        text-align: right;\n    }\n</style>\n<table border=\"1\" class=\"dataframe\">\n  <thead>\n    <tr style=\"text-align: right;\">\n      <th></th>\n      <th>Market_and_Exchange_Names</th>\n      <th>As_of_Date_In_Form_YYMMDD</th>\n      <th>Report_Date_as_MM_DD_YYYY</th>\n      <th>CFTC_Contract_Market_Code</th>\n      <th>CFTC_Market_Code</th>\n      <th>CFTC_Region_Code</th>\n      <th>CFTC_Commodity_Code</th>\n      <th>Open_Interest_All</th>\n      <th>Prod_Merc_Positions_Long_ALL</th>\n      <th>Prod_Merc_Positions_Short_ALL</th>\n      <th>...</th>\n      <th>Conc_Gross_LE_4_TDR_Short_Other</th>\n      <th>Conc_Gross_LE_8_TDR_Long_Other</th>\n      <th>Conc_Gross_LE_8_TDR_Short_Other</th>\n      <th>Conc_Net_LE_4_TDR_Long_Other</th>\n      <th>Conc_Net_LE_4_TDR_Short_Other</th>\n      <th>Conc_Net_LE_8_TDR_Long_Other</th>\n      <th>Conc_Net_LE_8_TDR_Short_Other</th>\n      <th>Contract_Units</th>\n      <th>CFTC_SubGroup_Code</th>\n      <th>FutOnly_or_Combined</th>\n    </tr>\n  </thead>\n  <tbody>\n    <tr>\n      <th>0</th>\n      <td>WHEAT-SRW - CHICAGO BOARD OF TRADE</td>\n      <td>211228</td>\n      <td>2021-12-28</td>\n      <td>001602</td>\n      <td>CBT</td>\n      <td>0</td>\n      <td>1</td>\n      <td>356439</td>\n      <td>36136</td>\n      <td>109537</td>\n      <td>...</td>\n      <td>19.6</td>\n      <td>36.9</td>\n      <td>30.3</td>\n      <td>17.9</td>\n      <td>14.3</td>\n      <td>30.4</td>\n      <td>23.2</td>\n      <td>(CONTRACTS OF 5,000 BUSHELS)</td>\n      <td>A10</td>\n      <td>FutOnly</td>\n    </tr>\n    <tr>\n      <th>1</th>\n      <td>WHEAT-SRW - CHICAGO BOARD OF TRADE</td>\n      <td>211221</td>\n      <td>2021-12-21</td>\n      <td>001602</td>\n      <td>CBT</td>\n      <td>0</td>\n      <td>1</td>\n      <td>357381</td>\n      <td>34715</td>\n      <td>108341</td>\n      <td>...</td>\n      <td>19.9</td>\n      <td>35.9</td>\n      <td>31.3</td>\n      <td>17.5</td>\n      <td>15.7</td>\n      <td>30.2</td>\n      <td>25.1</td>\n      <td>(CONTRACTS OF 5,000 BUSHELS)</td>\n      <td>A10</td>\n      <td>FutOnly</td>\n    </tr>\n    <tr>\n      <th>2</th>\n      <td>WHEAT-SRW - CHICAGO BOARD OF TRADE</td>\n      <td>211214</td>\n      <td>2021-12-14</td>\n      <td>001602</td>\n      <td>CBT</td>\n      <td>0</td>\n      <td>1</td>\n      <td>361469</td>\n      <td>31389</td>\n      <td>106281</td>\n      <td>...</td>\n      <td>21.1</td>\n      <td>36.5</td>\n      <td>32.1</td>\n      <td>17.7</td>\n      <td>16.5</td>\n      <td>29.8</td>\n      <td>25.3</td>\n      <td>(CONTRACTS OF 5,000 BUSHELS)</td>\n      <td>A10</td>\n      <td>FutOnly</td>\n    </tr>\n    <tr>\n      <th>3</th>\n      <td>WHEAT-SRW - CHICAGO BOARD OF TRADE</td>\n      <td>211207</td>\n      <td>2021-12-07</td>\n      <td>001602</td>\n      <td>CBT</td>\n      <td>0</td>\n      <td>1</td>\n      <td>359186</td>\n      <td>30223</td>\n      <td>108626</td>\n      <td>...</td>\n      <td>22.2</td>\n      <td>38.1</td>\n      <td>34.0</td>\n      <td>19.0</td>\n      <td>18.2</td>\n      <td>31.2</td>\n      <td>26.8</td>\n      <td>(CONTRACTS OF 5,000 BUSHELS)</td>\n      <td>A10</td>\n      <td>FutOnly</td>\n    </tr>\n    <tr>\n      <th>4</th>\n      <td>WHEAT-SRW - CHICAGO BOARD OF TRADE</td>\n      <td>211130</td>\n      <td>2021-11-30</td>\n      <td>001602</td>\n      <td>CBT</td>\n      <td>0</td>\n      <td>1</td>\n      <td>371575</td>\n      <td>32389</td>\n      <td>113621</td>\n      <td>...</td>\n      <td>23.2</td>\n      <td>38.4</td>\n      <td>34.9</td>\n      <td>20.1</td>\n      <td>19.8</td>\n      <td>32.2</td>\n      <td>28.5</td>\n      <td>(CONTRACTS OF 5,000 BUSHELS)</td>\n      <td>A10</td>\n      <td>FutOnly</td>\n    </tr>\n  </tbody>\n</table>\n<p>5 rows × 188 columns</p>\n</div>"
     },
     "execution_count": 5,
     "metadata": {},
     "output_type": "execute_result"
    }
   ],
   "source": [
    "df = pd.read_excel('Data/fut_disagg_xls_2021/f_year.xls', 'XLS')\n",
    "df.head()"
   ],
   "metadata": {
    "collapsed": false,
    "pycharm": {
     "name": "#%%\n"
    }
   }
  },
  {
   "cell_type": "code",
   "execution_count": 12,
   "outputs": [
    {
     "data": {
      "text/plain": "      Report_Date_as_MM_DD_YYYY  CFTC_Region_Code\n0                    2021-12-28                 0\n1                    2021-12-21                 0\n2                    2021-12-14                 0\n3                    2021-12-07                 0\n4                    2021-11-30                 0\n...                         ...               ...\n10689                2021-12-28                 1\n10690                2021-12-21                 1\n10691                2021-12-14                 1\n10692                2021-12-07                 1\n10693                2021-11-30                 1\n\n[1251 rows x 2 columns]",
      "text/html": "<div>\n<style scoped>\n    .dataframe tbody tr th:only-of-type {\n        vertical-align: middle;\n    }\n\n    .dataframe tbody tr th {\n        vertical-align: top;\n    }\n\n    .dataframe thead th {\n        text-align: right;\n    }\n</style>\n<table border=\"1\" class=\"dataframe\">\n  <thead>\n    <tr style=\"text-align: right;\">\n      <th></th>\n      <th>Report_Date_as_MM_DD_YYYY</th>\n      <th>CFTC_Region_Code</th>\n    </tr>\n  </thead>\n  <tbody>\n    <tr>\n      <th>0</th>\n      <td>2021-12-28</td>\n      <td>0</td>\n    </tr>\n    <tr>\n      <th>1</th>\n      <td>2021-12-21</td>\n      <td>0</td>\n    </tr>\n    <tr>\n      <th>2</th>\n      <td>2021-12-14</td>\n      <td>0</td>\n    </tr>\n    <tr>\n      <th>3</th>\n      <td>2021-12-07</td>\n      <td>0</td>\n    </tr>\n    <tr>\n      <th>4</th>\n      <td>2021-11-30</td>\n      <td>0</td>\n    </tr>\n    <tr>\n      <th>...</th>\n      <td>...</td>\n      <td>...</td>\n    </tr>\n    <tr>\n      <th>10689</th>\n      <td>2021-12-28</td>\n      <td>1</td>\n    </tr>\n    <tr>\n      <th>10690</th>\n      <td>2021-12-21</td>\n      <td>1</td>\n    </tr>\n    <tr>\n      <th>10691</th>\n      <td>2021-12-14</td>\n      <td>1</td>\n    </tr>\n    <tr>\n      <th>10692</th>\n      <td>2021-12-07</td>\n      <td>1</td>\n    </tr>\n    <tr>\n      <th>10693</th>\n      <td>2021-11-30</td>\n      <td>1</td>\n    </tr>\n  </tbody>\n</table>\n<p>1251 rows × 2 columns</p>\n</div>"
     },
     "execution_count": 12,
     "metadata": {},
     "output_type": "execute_result"
    }
   ],
   "source": [
    "df.groupby('Market_and_Exchange_Names')[['Report_Date_as_MM_DD_YYYY', 'CFTC_Region_Code']].head()"
   ],
   "metadata": {
    "collapsed": false,
    "pycharm": {
     "name": "#%%\n"
    }
   }
  }
 ],
 "metadata": {
  "kernelspec": {
   "display_name": "Python 3",
   "language": "python",
   "name": "python3"
  },
  "language_info": {
   "codemirror_mode": {
    "name": "ipython",
    "version": 2
   },
   "file_extension": ".py",
   "mimetype": "text/x-python",
   "name": "python",
   "nbconvert_exporter": "python",
   "pygments_lexer": "ipython2",
   "version": "2.7.6"
  }
 },
 "nbformat": 4,
 "nbformat_minor": 0
}