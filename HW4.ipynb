{
 "cells": [
  {
   "cell_type": "code",
   "execution_count": 53,
   "metadata": {
    "collapsed": true
   },
   "outputs": [],
   "source": [
    "import numpy as np\n",
    "import pandas as pd\n",
    "import scipy.stats"
   ]
  },
  {
   "cell_type": "code",
   "execution_count": 2,
   "outputs": [
    {
     "data": {
      "text/plain": "                                  name                 align            eye  \\\n0            Spider-Man (Peter Parker)       Добрый персонаж    Карие глаза   \n1      Captain America (Steven Rogers)       Добрый персонаж  Голубые глаза   \n2  Wolverine (James \\\"Logan\\\" Howlett)  Нейтральный персонаж  Голубые глаза   \n3    Iron Man (Anthony \\\"Tony\\\" Stark)       Добрый персонаж  Голубые глаза   \n4                  Thor (Thor Odinson)       Добрый персонаж  Голубые глаза   \n\n                hair               sex  appearances  first_appearance  \n0  Каштановые волосы  Мужской персонаж       4043.0            1962.0  \n1       Белые волосы  Мужской персонаж       3360.0            1941.0  \n2      Черные волосы  Мужской персонаж       3061.0            1974.0  \n3      Черные волосы  Мужской персонаж       2961.0            1963.0  \n4       Русые волосы  Мужской персонаж       2258.0            1950.0  ",
      "text/html": "<div>\n<style scoped>\n    .dataframe tbody tr th:only-of-type {\n        vertical-align: middle;\n    }\n\n    .dataframe tbody tr th {\n        vertical-align: top;\n    }\n\n    .dataframe thead th {\n        text-align: right;\n    }\n</style>\n<table border=\"1\" class=\"dataframe\">\n  <thead>\n    <tr style=\"text-align: right;\">\n      <th></th>\n      <th>name</th>\n      <th>align</th>\n      <th>eye</th>\n      <th>hair</th>\n      <th>sex</th>\n      <th>appearances</th>\n      <th>first_appearance</th>\n    </tr>\n  </thead>\n  <tbody>\n    <tr>\n      <th>0</th>\n      <td>Spider-Man (Peter Parker)</td>\n      <td>Добрый персонаж</td>\n      <td>Карие глаза</td>\n      <td>Каштановые волосы</td>\n      <td>Мужской персонаж</td>\n      <td>4043.0</td>\n      <td>1962.0</td>\n    </tr>\n    <tr>\n      <th>1</th>\n      <td>Captain America (Steven Rogers)</td>\n      <td>Добрый персонаж</td>\n      <td>Голубые глаза</td>\n      <td>Белые волосы</td>\n      <td>Мужской персонаж</td>\n      <td>3360.0</td>\n      <td>1941.0</td>\n    </tr>\n    <tr>\n      <th>2</th>\n      <td>Wolverine (James \\\"Logan\\\" Howlett)</td>\n      <td>Нейтральный персонаж</td>\n      <td>Голубые глаза</td>\n      <td>Черные волосы</td>\n      <td>Мужской персонаж</td>\n      <td>3061.0</td>\n      <td>1974.0</td>\n    </tr>\n    <tr>\n      <th>3</th>\n      <td>Iron Man (Anthony \\\"Tony\\\" Stark)</td>\n      <td>Добрый персонаж</td>\n      <td>Голубые глаза</td>\n      <td>Черные волосы</td>\n      <td>Мужской персонаж</td>\n      <td>2961.0</td>\n      <td>1963.0</td>\n    </tr>\n    <tr>\n      <th>4</th>\n      <td>Thor (Thor Odinson)</td>\n      <td>Добрый персонаж</td>\n      <td>Голубые глаза</td>\n      <td>Русые волосы</td>\n      <td>Мужской персонаж</td>\n      <td>2258.0</td>\n      <td>1950.0</td>\n    </tr>\n  </tbody>\n</table>\n</div>"
     },
     "execution_count": 2,
     "metadata": {},
     "output_type": "execute_result"
    }
   ],
   "source": [
    "df = pd.read_csv('https://courses.openedu.ru/assets/courseware/v1/87c72c7b117de3aaaabc62e72683d98e/asset-v1:hse+STATDA+2021+type@asset+block/MarvelComicCaracters.csv', sep=';')\n",
    "df.head()"
   ],
   "metadata": {
    "collapsed": false,
    "pycharm": {
     "name": "#%%\n"
    }
   }
  },
  {
   "cell_type": "code",
   "execution_count": 7,
   "outputs": [
    {
     "data": {
      "text/plain": "1096"
     },
     "execution_count": 7,
     "metadata": {},
     "output_type": "execute_result"
    }
   ],
   "source": [
    "df.appearances.isna().sum()"
   ],
   "metadata": {
    "collapsed": false,
    "pycharm": {
     "name": "#%%\n"
    }
   }
  },
  {
   "cell_type": "code",
   "execution_count": 23,
   "outputs": [
    {
     "data": {
      "text/plain": "13.0"
     },
     "execution_count": 23,
     "metadata": {},
     "output_type": "execute_result"
    }
   ],
   "source": [
    "q1_df = df.dropna(subset=['appearances'])\n",
    "q1_df.groupby('align')['appearances'].describe()\n",
    "q1_df[q1_df['align'] == 'Добрый персонаж']['appearances'].quantile(0.75) - q1_df[q1_df['align'] == 'Добрый персонаж']['appearances'].quantile(0.25)"
   ],
   "metadata": {
    "collapsed": false,
    "pycharm": {
     "name": "#%%\n"
    }
   }
  },
  {
   "cell_type": "code",
   "execution_count": 29,
   "outputs": [
    {
     "name": "stdout",
     "output_type": "stream",
     "text": [
      "-9.5 18.5\n"
     ]
    },
    {
     "data": {
      "text/plain": "1938"
     },
     "execution_count": 29,
     "metadata": {},
     "output_type": "execute_result"
    }
   ],
   "source": [
    "q2_df = df.dropna(subset=['appearances'])\n",
    "IQR = q2_df['appearances'].quantile(0.75) - q2_df['appearances'].quantile(0.25)\n",
    "IQR_bottom = q2_df['appearances'].quantile(0.25) - 1.5 * IQR\n",
    "IQR_top = q2_df['appearances'].quantile(0.75) + 1.5 * IQR\n",
    "print(IQR_bottom, IQR_top)\n",
    "q2_df[q2_df['appearances'] > IQR_top]['appearances'].shape[0]\n"
   ],
   "metadata": {
    "collapsed": false,
    "pycharm": {
     "name": "#%%\n"
    }
   }
  },
  {
   "cell_type": "code",
   "execution_count": 51,
   "outputs": [
    {
     "ename": "ValueError",
     "evalue": "The number of FixedLocator locations (2), usually from a call to set_ticks, does not match the number of ticklabels (1).",
     "output_type": "error",
     "traceback": [
      "\u001B[1;31m---------------------------------------------------------------------------\u001B[0m",
      "\u001B[1;31mValueError\u001B[0m                                Traceback (most recent call last)",
      "\u001B[1;32mC:\\Temp/ipykernel_10256/2760588218.py\u001B[0m in \u001B[0;36m<module>\u001B[1;34m\u001B[0m\n\u001B[0;32m      2\u001B[0m \u001B[0mIQR_group_q2_df\u001B[0m \u001B[1;33m=\u001B[0m \u001B[0mgroup_q2_df\u001B[0m\u001B[1;33m.\u001B[0m\u001B[0mquantile\u001B[0m\u001B[1;33m(\u001B[0m\u001B[1;36m0.75\u001B[0m\u001B[1;33m)\u001B[0m \u001B[1;33m-\u001B[0m \u001B[0mgroup_q2_df\u001B[0m\u001B[1;33m.\u001B[0m\u001B[0mquantile\u001B[0m\u001B[1;33m(\u001B[0m\u001B[1;36m0.25\u001B[0m\u001B[1;33m)\u001B[0m\u001B[1;33m\u001B[0m\u001B[1;33m\u001B[0m\u001B[0m\n\u001B[0;32m      3\u001B[0m \u001B[0mIQR_group_q2_df_top\u001B[0m \u001B[1;33m=\u001B[0m \u001B[0mIQR_group_q2_df\u001B[0m \u001B[1;33m*\u001B[0m \u001B[1;36m1.5\u001B[0m \u001B[1;33m+\u001B[0m \u001B[0mgroup_q2_df\u001B[0m\u001B[1;33m.\u001B[0m\u001B[0mquantile\u001B[0m\u001B[1;33m(\u001B[0m\u001B[1;36m0.75\u001B[0m\u001B[1;33m)\u001B[0m\u001B[1;33m\u001B[0m\u001B[1;33m\u001B[0m\u001B[0m\n\u001B[1;32m----> 4\u001B[1;33m \u001B[0mgroup_q2_df\u001B[0m\u001B[1;33m.\u001B[0m\u001B[0mplot\u001B[0m\u001B[1;33m(\u001B[0m\u001B[0mkind\u001B[0m\u001B[1;33m=\u001B[0m\u001B[1;34m'box'\u001B[0m\u001B[1;33m)\u001B[0m\u001B[1;33m\u001B[0m\u001B[1;33m\u001B[0m\u001B[0m\n\u001B[0m",
      "\u001B[1;32m~\\AppData\\Roaming\\Python\\Python310\\site-packages\\pandas\\core\\groupby\\groupby.py\u001B[0m in \u001B[0;36m__call__\u001B[1;34m(self, *args, **kwargs)\u001B[0m\n\u001B[0;32m    536\u001B[0m \u001B[1;33m\u001B[0m\u001B[0m\n\u001B[0;32m    537\u001B[0m         \u001B[0mf\u001B[0m\u001B[1;33m.\u001B[0m\u001B[0m__name__\u001B[0m \u001B[1;33m=\u001B[0m \u001B[1;34m\"plot\"\u001B[0m\u001B[1;33m\u001B[0m\u001B[1;33m\u001B[0m\u001B[0m\n\u001B[1;32m--> 538\u001B[1;33m         \u001B[1;32mreturn\u001B[0m \u001B[0mself\u001B[0m\u001B[1;33m.\u001B[0m\u001B[0m_groupby\u001B[0m\u001B[1;33m.\u001B[0m\u001B[0mapply\u001B[0m\u001B[1;33m(\u001B[0m\u001B[0mf\u001B[0m\u001B[1;33m)\u001B[0m\u001B[1;33m\u001B[0m\u001B[1;33m\u001B[0m\u001B[0m\n\u001B[0m\u001B[0;32m    539\u001B[0m \u001B[1;33m\u001B[0m\u001B[0m\n\u001B[0;32m    540\u001B[0m     \u001B[1;32mdef\u001B[0m \u001B[0m__getattr__\u001B[0m\u001B[1;33m(\u001B[0m\u001B[0mself\u001B[0m\u001B[1;33m,\u001B[0m \u001B[0mname\u001B[0m\u001B[1;33m:\u001B[0m \u001B[0mstr\u001B[0m\u001B[1;33m)\u001B[0m\u001B[1;33m:\u001B[0m\u001B[1;33m\u001B[0m\u001B[1;33m\u001B[0m\u001B[0m\n",
      "\u001B[1;32m~\\AppData\\Roaming\\Python\\Python310\\site-packages\\pandas\\core\\groupby\\generic.py\u001B[0m in \u001B[0;36mapply\u001B[1;34m(self, func, *args, **kwargs)\u001B[0m\n\u001B[0;32m    221\u001B[0m     )\n\u001B[0;32m    222\u001B[0m     \u001B[1;32mdef\u001B[0m \u001B[0mapply\u001B[0m\u001B[1;33m(\u001B[0m\u001B[0mself\u001B[0m\u001B[1;33m,\u001B[0m \u001B[0mfunc\u001B[0m\u001B[1;33m,\u001B[0m \u001B[1;33m*\u001B[0m\u001B[0margs\u001B[0m\u001B[1;33m,\u001B[0m \u001B[1;33m**\u001B[0m\u001B[0mkwargs\u001B[0m\u001B[1;33m)\u001B[0m\u001B[1;33m:\u001B[0m\u001B[1;33m\u001B[0m\u001B[1;33m\u001B[0m\u001B[0m\n\u001B[1;32m--> 223\u001B[1;33m         \u001B[1;32mreturn\u001B[0m \u001B[0msuper\u001B[0m\u001B[1;33m(\u001B[0m\u001B[1;33m)\u001B[0m\u001B[1;33m.\u001B[0m\u001B[0mapply\u001B[0m\u001B[1;33m(\u001B[0m\u001B[0mfunc\u001B[0m\u001B[1;33m,\u001B[0m \u001B[1;33m*\u001B[0m\u001B[0margs\u001B[0m\u001B[1;33m,\u001B[0m \u001B[1;33m**\u001B[0m\u001B[0mkwargs\u001B[0m\u001B[1;33m)\u001B[0m\u001B[1;33m\u001B[0m\u001B[1;33m\u001B[0m\u001B[0m\n\u001B[0m\u001B[0;32m    224\u001B[0m \u001B[1;33m\u001B[0m\u001B[0m\n\u001B[0;32m    225\u001B[0m     \u001B[1;33m@\u001B[0m\u001B[0mdoc\u001B[0m\u001B[1;33m(\u001B[0m\u001B[0m_agg_template\u001B[0m\u001B[1;33m,\u001B[0m \u001B[0mexamples\u001B[0m\u001B[1;33m=\u001B[0m\u001B[0m_agg_examples_doc\u001B[0m\u001B[1;33m,\u001B[0m \u001B[0mklass\u001B[0m\u001B[1;33m=\u001B[0m\u001B[1;34m\"Series\"\u001B[0m\u001B[1;33m)\u001B[0m\u001B[1;33m\u001B[0m\u001B[1;33m\u001B[0m\u001B[0m\n",
      "\u001B[1;32m~\\AppData\\Roaming\\Python\\Python310\\site-packages\\pandas\\core\\groupby\\groupby.py\u001B[0m in \u001B[0;36mapply\u001B[1;34m(self, func, *args, **kwargs)\u001B[0m\n\u001B[0;32m   1273\u001B[0m         \u001B[1;32mwith\u001B[0m \u001B[0moption_context\u001B[0m\u001B[1;33m(\u001B[0m\u001B[1;34m\"mode.chained_assignment\"\u001B[0m\u001B[1;33m,\u001B[0m \u001B[1;32mNone\u001B[0m\u001B[1;33m)\u001B[0m\u001B[1;33m:\u001B[0m\u001B[1;33m\u001B[0m\u001B[1;33m\u001B[0m\u001B[0m\n\u001B[0;32m   1274\u001B[0m             \u001B[1;32mtry\u001B[0m\u001B[1;33m:\u001B[0m\u001B[1;33m\u001B[0m\u001B[1;33m\u001B[0m\u001B[0m\n\u001B[1;32m-> 1275\u001B[1;33m                 \u001B[0mresult\u001B[0m \u001B[1;33m=\u001B[0m \u001B[0mself\u001B[0m\u001B[1;33m.\u001B[0m\u001B[0m_python_apply_general\u001B[0m\u001B[1;33m(\u001B[0m\u001B[0mf\u001B[0m\u001B[1;33m,\u001B[0m \u001B[0mself\u001B[0m\u001B[1;33m.\u001B[0m\u001B[0m_selected_obj\u001B[0m\u001B[1;33m)\u001B[0m\u001B[1;33m\u001B[0m\u001B[1;33m\u001B[0m\u001B[0m\n\u001B[0m\u001B[0;32m   1276\u001B[0m             \u001B[1;32mexcept\u001B[0m \u001B[0mTypeError\u001B[0m\u001B[1;33m:\u001B[0m\u001B[1;33m\u001B[0m\u001B[1;33m\u001B[0m\u001B[0m\n\u001B[0;32m   1277\u001B[0m                 \u001B[1;31m# gh-20949\u001B[0m\u001B[1;33m\u001B[0m\u001B[1;33m\u001B[0m\u001B[0m\n",
      "\u001B[1;32m~\\AppData\\Roaming\\Python\\Python310\\site-packages\\pandas\\core\\groupby\\groupby.py\u001B[0m in \u001B[0;36m_python_apply_general\u001B[1;34m(self, f, data)\u001B[0m\n\u001B[0;32m   1307\u001B[0m             \u001B[0mdata\u001B[0m \u001B[0mafter\u001B[0m \u001B[0mapplying\u001B[0m \u001B[0mf\u001B[0m\u001B[1;33m\u001B[0m\u001B[1;33m\u001B[0m\u001B[0m\n\u001B[0;32m   1308\u001B[0m         \"\"\"\n\u001B[1;32m-> 1309\u001B[1;33m         \u001B[0mkeys\u001B[0m\u001B[1;33m,\u001B[0m \u001B[0mvalues\u001B[0m\u001B[1;33m,\u001B[0m \u001B[0mmutated\u001B[0m \u001B[1;33m=\u001B[0m \u001B[0mself\u001B[0m\u001B[1;33m.\u001B[0m\u001B[0mgrouper\u001B[0m\u001B[1;33m.\u001B[0m\u001B[0mapply\u001B[0m\u001B[1;33m(\u001B[0m\u001B[0mf\u001B[0m\u001B[1;33m,\u001B[0m \u001B[0mdata\u001B[0m\u001B[1;33m,\u001B[0m \u001B[0mself\u001B[0m\u001B[1;33m.\u001B[0m\u001B[0maxis\u001B[0m\u001B[1;33m)\u001B[0m\u001B[1;33m\u001B[0m\u001B[1;33m\u001B[0m\u001B[0m\n\u001B[0m\u001B[0;32m   1310\u001B[0m \u001B[1;33m\u001B[0m\u001B[0m\n\u001B[0;32m   1311\u001B[0m         return self._wrap_applied_output(\n",
      "\u001B[1;32m~\\AppData\\Roaming\\Python\\Python310\\site-packages\\pandas\\core\\groupby\\ops.py\u001B[0m in \u001B[0;36mapply\u001B[1;34m(self, f, data, axis)\u001B[0m\n\u001B[0;32m    839\u001B[0m             \u001B[1;31m# group might be modified\u001B[0m\u001B[1;33m\u001B[0m\u001B[1;33m\u001B[0m\u001B[0m\n\u001B[0;32m    840\u001B[0m             \u001B[0mgroup_axes\u001B[0m \u001B[1;33m=\u001B[0m \u001B[0mgroup\u001B[0m\u001B[1;33m.\u001B[0m\u001B[0maxes\u001B[0m\u001B[1;33m\u001B[0m\u001B[1;33m\u001B[0m\u001B[0m\n\u001B[1;32m--> 841\u001B[1;33m             \u001B[0mres\u001B[0m \u001B[1;33m=\u001B[0m \u001B[0mf\u001B[0m\u001B[1;33m(\u001B[0m\u001B[0mgroup\u001B[0m\u001B[1;33m)\u001B[0m\u001B[1;33m\u001B[0m\u001B[1;33m\u001B[0m\u001B[0m\n\u001B[0m\u001B[0;32m    842\u001B[0m             \u001B[1;32mif\u001B[0m \u001B[1;32mnot\u001B[0m \u001B[0m_is_indexed_like\u001B[0m\u001B[1;33m(\u001B[0m\u001B[0mres\u001B[0m\u001B[1;33m,\u001B[0m \u001B[0mgroup_axes\u001B[0m\u001B[1;33m,\u001B[0m \u001B[0maxis\u001B[0m\u001B[1;33m)\u001B[0m\u001B[1;33m:\u001B[0m\u001B[1;33m\u001B[0m\u001B[1;33m\u001B[0m\u001B[0m\n\u001B[0;32m    843\u001B[0m                 \u001B[0mmutated\u001B[0m \u001B[1;33m=\u001B[0m \u001B[1;32mTrue\u001B[0m\u001B[1;33m\u001B[0m\u001B[1;33m\u001B[0m\u001B[0m\n",
      "\u001B[1;32m~\\AppData\\Roaming\\Python\\Python310\\site-packages\\pandas\\core\\groupby\\groupby.py\u001B[0m in \u001B[0;36mf\u001B[1;34m(self)\u001B[0m\n\u001B[0;32m    533\u001B[0m     \u001B[1;32mdef\u001B[0m \u001B[0m__call__\u001B[0m\u001B[1;33m(\u001B[0m\u001B[0mself\u001B[0m\u001B[1;33m,\u001B[0m \u001B[1;33m*\u001B[0m\u001B[0margs\u001B[0m\u001B[1;33m,\u001B[0m \u001B[1;33m**\u001B[0m\u001B[0mkwargs\u001B[0m\u001B[1;33m)\u001B[0m\u001B[1;33m:\u001B[0m\u001B[1;33m\u001B[0m\u001B[1;33m\u001B[0m\u001B[0m\n\u001B[0;32m    534\u001B[0m         \u001B[1;32mdef\u001B[0m \u001B[0mf\u001B[0m\u001B[1;33m(\u001B[0m\u001B[0mself\u001B[0m\u001B[1;33m)\u001B[0m\u001B[1;33m:\u001B[0m\u001B[1;33m\u001B[0m\u001B[1;33m\u001B[0m\u001B[0m\n\u001B[1;32m--> 535\u001B[1;33m             \u001B[1;32mreturn\u001B[0m \u001B[0mself\u001B[0m\u001B[1;33m.\u001B[0m\u001B[0mplot\u001B[0m\u001B[1;33m(\u001B[0m\u001B[1;33m*\u001B[0m\u001B[0margs\u001B[0m\u001B[1;33m,\u001B[0m \u001B[1;33m**\u001B[0m\u001B[0mkwargs\u001B[0m\u001B[1;33m)\u001B[0m\u001B[1;33m\u001B[0m\u001B[1;33m\u001B[0m\u001B[0m\n\u001B[0m\u001B[0;32m    536\u001B[0m \u001B[1;33m\u001B[0m\u001B[0m\n\u001B[0;32m    537\u001B[0m         \u001B[0mf\u001B[0m\u001B[1;33m.\u001B[0m\u001B[0m__name__\u001B[0m \u001B[1;33m=\u001B[0m \u001B[1;34m\"plot\"\u001B[0m\u001B[1;33m\u001B[0m\u001B[1;33m\u001B[0m\u001B[0m\n",
      "\u001B[1;32m~\\AppData\\Roaming\\Python\\Python310\\site-packages\\pandas\\plotting\\_core.py\u001B[0m in \u001B[0;36m__call__\u001B[1;34m(self, *args, **kwargs)\u001B[0m\n\u001B[0;32m    970\u001B[0m                     \u001B[0mdata\u001B[0m\u001B[1;33m.\u001B[0m\u001B[0mcolumns\u001B[0m \u001B[1;33m=\u001B[0m \u001B[0mlabel_name\u001B[0m\u001B[1;33m\u001B[0m\u001B[1;33m\u001B[0m\u001B[0m\n\u001B[0;32m    971\u001B[0m \u001B[1;33m\u001B[0m\u001B[0m\n\u001B[1;32m--> 972\u001B[1;33m         \u001B[1;32mreturn\u001B[0m \u001B[0mplot_backend\u001B[0m\u001B[1;33m.\u001B[0m\u001B[0mplot\u001B[0m\u001B[1;33m(\u001B[0m\u001B[0mdata\u001B[0m\u001B[1;33m,\u001B[0m \u001B[0mkind\u001B[0m\u001B[1;33m=\u001B[0m\u001B[0mkind\u001B[0m\u001B[1;33m,\u001B[0m \u001B[1;33m**\u001B[0m\u001B[0mkwargs\u001B[0m\u001B[1;33m)\u001B[0m\u001B[1;33m\u001B[0m\u001B[1;33m\u001B[0m\u001B[0m\n\u001B[0m\u001B[0;32m    973\u001B[0m \u001B[1;33m\u001B[0m\u001B[0m\n\u001B[0;32m    974\u001B[0m     \u001B[0m__call__\u001B[0m\u001B[1;33m.\u001B[0m\u001B[0m__doc__\u001B[0m \u001B[1;33m=\u001B[0m \u001B[0m__doc__\u001B[0m\u001B[1;33m\u001B[0m\u001B[1;33m\u001B[0m\u001B[0m\n",
      "\u001B[1;32m~\\AppData\\Roaming\\Python\\Python310\\site-packages\\pandas\\plotting\\_matplotlib\\__init__.py\u001B[0m in \u001B[0;36mplot\u001B[1;34m(data, kind, **kwargs)\u001B[0m\n\u001B[0;32m     69\u001B[0m             \u001B[0mkwargs\u001B[0m\u001B[1;33m[\u001B[0m\u001B[1;34m\"ax\"\u001B[0m\u001B[1;33m]\u001B[0m \u001B[1;33m=\u001B[0m \u001B[0mgetattr\u001B[0m\u001B[1;33m(\u001B[0m\u001B[0max\u001B[0m\u001B[1;33m,\u001B[0m \u001B[1;34m\"left_ax\"\u001B[0m\u001B[1;33m,\u001B[0m \u001B[0max\u001B[0m\u001B[1;33m)\u001B[0m\u001B[1;33m\u001B[0m\u001B[1;33m\u001B[0m\u001B[0m\n\u001B[0;32m     70\u001B[0m     \u001B[0mplot_obj\u001B[0m \u001B[1;33m=\u001B[0m \u001B[0mPLOT_CLASSES\u001B[0m\u001B[1;33m[\u001B[0m\u001B[0mkind\u001B[0m\u001B[1;33m]\u001B[0m\u001B[1;33m(\u001B[0m\u001B[0mdata\u001B[0m\u001B[1;33m,\u001B[0m \u001B[1;33m**\u001B[0m\u001B[0mkwargs\u001B[0m\u001B[1;33m)\u001B[0m\u001B[1;33m\u001B[0m\u001B[1;33m\u001B[0m\u001B[0m\n\u001B[1;32m---> 71\u001B[1;33m     \u001B[0mplot_obj\u001B[0m\u001B[1;33m.\u001B[0m\u001B[0mgenerate\u001B[0m\u001B[1;33m(\u001B[0m\u001B[1;33m)\u001B[0m\u001B[1;33m\u001B[0m\u001B[1;33m\u001B[0m\u001B[0m\n\u001B[0m\u001B[0;32m     72\u001B[0m     \u001B[0mplot_obj\u001B[0m\u001B[1;33m.\u001B[0m\u001B[0mdraw\u001B[0m\u001B[1;33m(\u001B[0m\u001B[1;33m)\u001B[0m\u001B[1;33m\u001B[0m\u001B[1;33m\u001B[0m\u001B[0m\n\u001B[0;32m     73\u001B[0m     \u001B[1;32mreturn\u001B[0m \u001B[0mplot_obj\u001B[0m\u001B[1;33m.\u001B[0m\u001B[0mresult\u001B[0m\u001B[1;33m\u001B[0m\u001B[1;33m\u001B[0m\u001B[0m\n",
      "\u001B[1;32m~\\AppData\\Roaming\\Python\\Python310\\site-packages\\pandas\\plotting\\_matplotlib\\core.py\u001B[0m in \u001B[0;36mgenerate\u001B[1;34m(self)\u001B[0m\n\u001B[0;32m    286\u001B[0m         \u001B[0mself\u001B[0m\u001B[1;33m.\u001B[0m\u001B[0m_compute_plot_data\u001B[0m\u001B[1;33m(\u001B[0m\u001B[1;33m)\u001B[0m\u001B[1;33m\u001B[0m\u001B[1;33m\u001B[0m\u001B[0m\n\u001B[0;32m    287\u001B[0m         \u001B[0mself\u001B[0m\u001B[1;33m.\u001B[0m\u001B[0m_setup_subplots\u001B[0m\u001B[1;33m(\u001B[0m\u001B[1;33m)\u001B[0m\u001B[1;33m\u001B[0m\u001B[1;33m\u001B[0m\u001B[0m\n\u001B[1;32m--> 288\u001B[1;33m         \u001B[0mself\u001B[0m\u001B[1;33m.\u001B[0m\u001B[0m_make_plot\u001B[0m\u001B[1;33m(\u001B[0m\u001B[1;33m)\u001B[0m\u001B[1;33m\u001B[0m\u001B[1;33m\u001B[0m\u001B[0m\n\u001B[0m\u001B[0;32m    289\u001B[0m         \u001B[0mself\u001B[0m\u001B[1;33m.\u001B[0m\u001B[0m_add_table\u001B[0m\u001B[1;33m(\u001B[0m\u001B[1;33m)\u001B[0m\u001B[1;33m\u001B[0m\u001B[1;33m\u001B[0m\u001B[0m\n\u001B[0;32m    290\u001B[0m         \u001B[0mself\u001B[0m\u001B[1;33m.\u001B[0m\u001B[0m_make_legend\u001B[0m\u001B[1;33m(\u001B[0m\u001B[1;33m)\u001B[0m\u001B[1;33m\u001B[0m\u001B[1;33m\u001B[0m\u001B[0m\n",
      "\u001B[1;32m~\\AppData\\Roaming\\Python\\Python310\\site-packages\\pandas\\plotting\\_matplotlib\\boxplot.py\u001B[0m in \u001B[0;36m_make_plot\u001B[1;34m(self)\u001B[0m\n\u001B[0;32m    163\u001B[0m             \u001B[1;32mif\u001B[0m \u001B[1;32mnot\u001B[0m \u001B[0mself\u001B[0m\u001B[1;33m.\u001B[0m\u001B[0muse_index\u001B[0m\u001B[1;33m:\u001B[0m\u001B[1;33m\u001B[0m\u001B[1;33m\u001B[0m\u001B[0m\n\u001B[0;32m    164\u001B[0m                 \u001B[0mlabels\u001B[0m \u001B[1;33m=\u001B[0m \u001B[1;33m[\u001B[0m\u001B[0mpprint_thing\u001B[0m\u001B[1;33m(\u001B[0m\u001B[0mkey\u001B[0m\u001B[1;33m)\u001B[0m \u001B[1;32mfor\u001B[0m \u001B[0mkey\u001B[0m \u001B[1;32min\u001B[0m \u001B[0mrange\u001B[0m\u001B[1;33m(\u001B[0m\u001B[0mlen\u001B[0m\u001B[1;33m(\u001B[0m\u001B[0mlabels\u001B[0m\u001B[1;33m)\u001B[0m\u001B[1;33m)\u001B[0m\u001B[1;33m]\u001B[0m\u001B[1;33m\u001B[0m\u001B[1;33m\u001B[0m\u001B[0m\n\u001B[1;32m--> 165\u001B[1;33m             \u001B[0mself\u001B[0m\u001B[1;33m.\u001B[0m\u001B[0m_set_ticklabels\u001B[0m\u001B[1;33m(\u001B[0m\u001B[0max\u001B[0m\u001B[1;33m,\u001B[0m \u001B[0mlabels\u001B[0m\u001B[1;33m)\u001B[0m\u001B[1;33m\u001B[0m\u001B[1;33m\u001B[0m\u001B[0m\n\u001B[0m\u001B[0;32m    166\u001B[0m \u001B[1;33m\u001B[0m\u001B[0m\n\u001B[0;32m    167\u001B[0m     \u001B[1;32mdef\u001B[0m \u001B[0m_set_ticklabels\u001B[0m\u001B[1;33m(\u001B[0m\u001B[0mself\u001B[0m\u001B[1;33m,\u001B[0m \u001B[0max\u001B[0m\u001B[1;33m:\u001B[0m \u001B[0mAxes\u001B[0m\u001B[1;33m,\u001B[0m \u001B[0mlabels\u001B[0m\u001B[1;33m)\u001B[0m\u001B[1;33m:\u001B[0m\u001B[1;33m\u001B[0m\u001B[1;33m\u001B[0m\u001B[0m\n",
      "\u001B[1;32m~\\AppData\\Roaming\\Python\\Python310\\site-packages\\pandas\\plotting\\_matplotlib\\boxplot.py\u001B[0m in \u001B[0;36m_set_ticklabels\u001B[1;34m(self, ax, labels)\u001B[0m\n\u001B[0;32m    167\u001B[0m     \u001B[1;32mdef\u001B[0m \u001B[0m_set_ticklabels\u001B[0m\u001B[1;33m(\u001B[0m\u001B[0mself\u001B[0m\u001B[1;33m,\u001B[0m \u001B[0max\u001B[0m\u001B[1;33m:\u001B[0m \u001B[0mAxes\u001B[0m\u001B[1;33m,\u001B[0m \u001B[0mlabels\u001B[0m\u001B[1;33m)\u001B[0m\u001B[1;33m:\u001B[0m\u001B[1;33m\u001B[0m\u001B[1;33m\u001B[0m\u001B[0m\n\u001B[0;32m    168\u001B[0m         \u001B[1;32mif\u001B[0m \u001B[0mself\u001B[0m\u001B[1;33m.\u001B[0m\u001B[0morientation\u001B[0m \u001B[1;33m==\u001B[0m \u001B[1;34m\"vertical\"\u001B[0m\u001B[1;33m:\u001B[0m\u001B[1;33m\u001B[0m\u001B[1;33m\u001B[0m\u001B[0m\n\u001B[1;32m--> 169\u001B[1;33m             \u001B[0max\u001B[0m\u001B[1;33m.\u001B[0m\u001B[0mset_xticklabels\u001B[0m\u001B[1;33m(\u001B[0m\u001B[0mlabels\u001B[0m\u001B[1;33m)\u001B[0m\u001B[1;33m\u001B[0m\u001B[1;33m\u001B[0m\u001B[0m\n\u001B[0m\u001B[0;32m    170\u001B[0m         \u001B[1;32melse\u001B[0m\u001B[1;33m:\u001B[0m\u001B[1;33m\u001B[0m\u001B[1;33m\u001B[0m\u001B[0m\n\u001B[0;32m    171\u001B[0m             \u001B[0max\u001B[0m\u001B[1;33m.\u001B[0m\u001B[0mset_yticklabels\u001B[0m\u001B[1;33m(\u001B[0m\u001B[0mlabels\u001B[0m\u001B[1;33m)\u001B[0m\u001B[1;33m\u001B[0m\u001B[1;33m\u001B[0m\u001B[0m\n",
      "\u001B[1;32m~\\AppData\\Roaming\\Python\\Python310\\site-packages\\matplotlib\\axes\\_base.py\u001B[0m in \u001B[0;36mwrapper\u001B[1;34m(self, *args, **kwargs)\u001B[0m\n\u001B[0;32m     73\u001B[0m \u001B[1;33m\u001B[0m\u001B[0m\n\u001B[0;32m     74\u001B[0m         \u001B[1;32mdef\u001B[0m \u001B[0mwrapper\u001B[0m\u001B[1;33m(\u001B[0m\u001B[0mself\u001B[0m\u001B[1;33m,\u001B[0m \u001B[1;33m*\u001B[0m\u001B[0margs\u001B[0m\u001B[1;33m,\u001B[0m \u001B[1;33m**\u001B[0m\u001B[0mkwargs\u001B[0m\u001B[1;33m)\u001B[0m\u001B[1;33m:\u001B[0m\u001B[1;33m\u001B[0m\u001B[1;33m\u001B[0m\u001B[0m\n\u001B[1;32m---> 75\u001B[1;33m             \u001B[1;32mreturn\u001B[0m \u001B[0mget_method\u001B[0m\u001B[1;33m(\u001B[0m\u001B[0mself\u001B[0m\u001B[1;33m)\u001B[0m\u001B[1;33m(\u001B[0m\u001B[1;33m*\u001B[0m\u001B[0margs\u001B[0m\u001B[1;33m,\u001B[0m \u001B[1;33m**\u001B[0m\u001B[0mkwargs\u001B[0m\u001B[1;33m)\u001B[0m\u001B[1;33m\u001B[0m\u001B[1;33m\u001B[0m\u001B[0m\n\u001B[0m\u001B[0;32m     76\u001B[0m \u001B[1;33m\u001B[0m\u001B[0m\n\u001B[0;32m     77\u001B[0m         \u001B[0mwrapper\u001B[0m\u001B[1;33m.\u001B[0m\u001B[0m__module__\u001B[0m \u001B[1;33m=\u001B[0m \u001B[0mowner\u001B[0m\u001B[1;33m.\u001B[0m\u001B[0m__module__\u001B[0m\u001B[1;33m\u001B[0m\u001B[1;33m\u001B[0m\u001B[0m\n",
      "\u001B[1;32m~\\AppData\\Roaming\\Python\\Python310\\site-packages\\matplotlib\\axis.py\u001B[0m in \u001B[0;36m_set_ticklabels\u001B[1;34m(self, labels, fontdict, minor, **kwargs)\u001B[0m\n\u001B[0;32m   1796\u001B[0m         \u001B[1;32mif\u001B[0m \u001B[0mfontdict\u001B[0m \u001B[1;32mis\u001B[0m \u001B[1;32mnot\u001B[0m \u001B[1;32mNone\u001B[0m\u001B[1;33m:\u001B[0m\u001B[1;33m\u001B[0m\u001B[1;33m\u001B[0m\u001B[0m\n\u001B[0;32m   1797\u001B[0m             \u001B[0mkwargs\u001B[0m\u001B[1;33m.\u001B[0m\u001B[0mupdate\u001B[0m\u001B[1;33m(\u001B[0m\u001B[0mfontdict\u001B[0m\u001B[1;33m)\u001B[0m\u001B[1;33m\u001B[0m\u001B[1;33m\u001B[0m\u001B[0m\n\u001B[1;32m-> 1798\u001B[1;33m         \u001B[1;32mreturn\u001B[0m \u001B[0mself\u001B[0m\u001B[1;33m.\u001B[0m\u001B[0mset_ticklabels\u001B[0m\u001B[1;33m(\u001B[0m\u001B[0mlabels\u001B[0m\u001B[1;33m,\u001B[0m \u001B[0mminor\u001B[0m\u001B[1;33m=\u001B[0m\u001B[0mminor\u001B[0m\u001B[1;33m,\u001B[0m \u001B[1;33m**\u001B[0m\u001B[0mkwargs\u001B[0m\u001B[1;33m)\u001B[0m\u001B[1;33m\u001B[0m\u001B[1;33m\u001B[0m\u001B[0m\n\u001B[0m\u001B[0;32m   1799\u001B[0m \u001B[1;33m\u001B[0m\u001B[0m\n\u001B[0;32m   1800\u001B[0m     \u001B[1;32mdef\u001B[0m \u001B[0m_set_tick_locations\u001B[0m\u001B[1;33m(\u001B[0m\u001B[0mself\u001B[0m\u001B[1;33m,\u001B[0m \u001B[0mticks\u001B[0m\u001B[1;33m,\u001B[0m \u001B[1;33m*\u001B[0m\u001B[1;33m,\u001B[0m \u001B[0mminor\u001B[0m\u001B[1;33m=\u001B[0m\u001B[1;32mFalse\u001B[0m\u001B[1;33m)\u001B[0m\u001B[1;33m:\u001B[0m\u001B[1;33m\u001B[0m\u001B[1;33m\u001B[0m\u001B[0m\n",
      "\u001B[1;32m~\\AppData\\Roaming\\Python\\Python310\\site-packages\\matplotlib\\axis.py\u001B[0m in \u001B[0;36mset_ticklabels\u001B[1;34m(self, ticklabels, minor, **kwargs)\u001B[0m\n\u001B[0;32m   1718\u001B[0m             \u001B[1;31m# remove all tick labels, so only error for > 0 ticklabels\u001B[0m\u001B[1;33m\u001B[0m\u001B[1;33m\u001B[0m\u001B[0m\n\u001B[0;32m   1719\u001B[0m             \u001B[1;32mif\u001B[0m \u001B[0mlen\u001B[0m\u001B[1;33m(\u001B[0m\u001B[0mlocator\u001B[0m\u001B[1;33m.\u001B[0m\u001B[0mlocs\u001B[0m\u001B[1;33m)\u001B[0m \u001B[1;33m!=\u001B[0m \u001B[0mlen\u001B[0m\u001B[1;33m(\u001B[0m\u001B[0mticklabels\u001B[0m\u001B[1;33m)\u001B[0m \u001B[1;32mand\u001B[0m \u001B[0mlen\u001B[0m\u001B[1;33m(\u001B[0m\u001B[0mticklabels\u001B[0m\u001B[1;33m)\u001B[0m \u001B[1;33m!=\u001B[0m \u001B[1;36m0\u001B[0m\u001B[1;33m:\u001B[0m\u001B[1;33m\u001B[0m\u001B[1;33m\u001B[0m\u001B[0m\n\u001B[1;32m-> 1720\u001B[1;33m                 raise ValueError(\n\u001B[0m\u001B[0;32m   1721\u001B[0m                     \u001B[1;34m\"The number of FixedLocator locations\"\u001B[0m\u001B[1;33m\u001B[0m\u001B[1;33m\u001B[0m\u001B[0m\n\u001B[0;32m   1722\u001B[0m                     \u001B[1;34mf\" ({len(locator.locs)}), usually from a call to\"\u001B[0m\u001B[1;33m\u001B[0m\u001B[1;33m\u001B[0m\u001B[0m\n",
      "\u001B[1;31mValueError\u001B[0m: The number of FixedLocator locations (2), usually from a call to set_ticks, does not match the number of ticklabels (1)."
     ]
    },
    {
     "data": {
      "text/plain": "<Figure size 432x288 with 1 Axes>",
      "image/png": "[encoded data removed]"
     },
     "metadata": {
      "needs_background": "light"
     },
     "output_type": "display_data"
    }
   ],
   "source": [
    "group_q2_df = q2_df.groupby('align')['appearances']\n",
    "IQR_group_q2_df = group_q2_df.quantile(0.75) - group_q2_df.quantile(0.25)\n",
    "IQR_group_q2_df_top = IQR_group_q2_df * 1.5 + group_q2_df.quantile(0.75)"
   ],
   "metadata": {
    "collapsed": false,
    "pycharm": {
     "name": "#%%\n"
    }
   }
  },
  {
   "cell_type": "code",
   "execution_count": 62,
   "outputs": [
    {
     "name": "stderr",
     "output_type": "stream",
     "text": [
      "C:\\Temp/ipykernel_10256/2697986495.py:2: SettingWithCopyWarning: \n",
      "A value is trying to be set on a copy of a slice from a DataFrame.\n",
      "Try using .loc[row_indexer,col_indexer] = value instead\n",
      "\n",
      "See the caveats in the documentation: https://pandas.pydata.org/pandas-docs/stable/user_guide/indexing.html#returning-a-view-versus-a-copy\n",
      "  dropNa_df['log_appearences'] = np.log(dropNa_df['appearances'])\n"
     ]
    }
   ],
   "source": [
    "dropNa_df = df.dropna(subset=['appearances'])\n",
    "dropNa_df['log_appearences'] = np.log(dropNa_df['appearances'])"
   ],
   "metadata": {
    "collapsed": false,
    "pycharm": {
     "name": "#%%\n"
    }
   }
  },
  {
   "cell_type": "code",
   "execution_count": 63,
   "outputs": [
    {
     "data": {
      "text/plain": "195"
     },
     "execution_count": 63,
     "metadata": {},
     "output_type": "execute_result"
    }
   ],
   "source": [
    "Mean_df = dropNa_df['log_appearences'].mean()\n",
    "Std_df = dropNa_df['log_appearences'].std()\n",
    "top = Mean_df + 3 * Std_df\n",
    "\n",
    "dropNa_df[dropNa_df['log_appearences'] > top].shape[0]"
   ],
   "metadata": {
    "collapsed": false,
    "pycharm": {
     "name": "#%%\n"
    }
   }
  },
  {
   "cell_type": "code",
   "execution_count": 68,
   "outputs": [
    {
     "data": {
      "text/plain": "128"
     },
     "execution_count": 68,
     "metadata": {},
     "output_type": "execute_result"
    }
   ],
   "source": [
    "Mean1 = dropNa_df['appearances'].mean()\n",
    "std1 = dropNa_df['appearances'].std()\n",
    "top1 = Mean1 + 3 * std1\n",
    "dropNa_df[dropNa_df['appearances'] > top1].shape[0]"
   ],
   "metadata": {
    "collapsed": false,
    "pycharm": {
     "name": "#%%\n"
    }
   }
  },
  {
   "cell_type": "code",
   "execution_count": 74,
   "outputs": [
    {
     "data": {
      "text/plain": "48"
     },
     "execution_count": 74,
     "metadata": {},
     "output_type": "execute_result"
    }
   ],
   "source": [
    "Mean2 = dropNa_df[dropNa_df['sex'] == 'Женский персонаж']['appearances'].mean()\n",
    "std2 = dropNa_df[dropNa_df['sex'] == 'Женский персонаж']['appearances'].std()\n",
    "top2 = Mean2 + 3 * std2\n",
    "dropNa_df[(dropNa_df['sex'] == 'Женский персонаж') & (dropNa_df['appearances'] > top2)]['appearances'].shape[0]"
   ],
   "metadata": {
    "collapsed": false,
    "pycharm": {
     "name": "#%%\n"
    }
   }
  },
  {
   "cell_type": "code",
   "execution_count": 83,
   "outputs": [
    {
     "data": {
      "text/plain": "107.0500515995872"
     },
     "execution_count": 83,
     "metadata": {},
     "output_type": "execute_result"
    }
   ],
   "source": [
    "IQR1 = dropNa_df.appearances.quantile(0.75) - dropNa_df.appearances.quantile(0.25)\n",
    "IQR1_top = dropNa_df.appearances.quantile(0.75) + IQR1 * 1.5\n",
    "IQR1_bottom = dropNa_df.appearances.quantile(0.25) - IQR1 * 1.5\n",
    "dropNa_df[(dropNa_df['appearances'] < IQR1_bottom) | (dropNa_df['appearances'] > IQR1_top)]['appearances'].mean()\n",
    "# print(IQR1_top, IQR1_bottom)"
   ],
   "metadata": {
    "collapsed": false,
    "pycharm": {
     "name": "#%%\n"
    }
   }
  },
  {
   "cell_type": "code",
   "execution_count": 99,
   "outputs": [
    {
     "data": {
      "text/plain": "17.033376963350786"
     },
     "execution_count": 99,
     "metadata": {},
     "output_type": "execute_result"
    }
   ],
   "source": [
    "Mean11 = dropNa_df['appearances'].mean()\n",
    "std1 = dropNa_df['appearances'].std()\n",
    "B1 = Mean1 - 3 * std1\n",
    "B2 = Mean1 + 3 * std1\n",
    "dropNa_df[(dropNa_df['appearances'] > B1) | (dropNa_df['appearances'] < B2)]['appearances'].mean()"
   ],
   "metadata": {
    "collapsed": false,
    "pycharm": {
     "name": "#%%\n"
    }
   }
  },
  {
   "cell_type": "code",
   "execution_count": 92,
   "outputs": [
    {
     "name": "stdout",
     "output_type": "stream",
     "text": [
      "Черные волосы            442\n",
      "Русые волосы             329\n",
      "Каштановые волосы        242\n",
      "Белые волосы              60\n",
      "Без волос                 25\n",
      "Светло-розовые волосы     16\n",
      "Зеленые волосы            15\n",
      "Фиолетовые волосы         10\n",
      "Розовые волосы             8\n",
      "Оранжевые волосы           4\n",
      "Серебристые волосы         3\n",
      "Пурпурные волосы           2\n",
      "Разноцветные волосы        2\n",
      "Золотые волосы             1\n",
      "Желтые волосы              1\n",
      "Name: hair, dtype: int64 Черные волосы            418\n",
      "Русые волосы             309\n",
      "Каштановые волосы        236\n",
      "Белые волосы              56\n",
      "Без волос                 22\n",
      "Светло-розовые волосы     16\n",
      "Зеленые волосы            13\n",
      "Фиолетовые волосы         10\n",
      "Розовые волосы             7\n",
      "Оранжевые волосы           4\n",
      "Серебристые волосы         2\n",
      "Пурпурные волосы           2\n",
      "Разноцветные волосы        2\n",
      "Золотые волосы             1\n",
      "Желтые волосы              1\n",
      "Name: hair, dtype: int64 "
     ]
    }
   ],
   "source": [
    "Mode1 = dropNa_df[(dropNa_df['sex'] == 'Женский персонаж') & (dropNa_df['align'] == 'Добрый персонаж')]['hair'].value_counts()\n",
    "Mode2 = df[(df['sex'] == 'Женский персонаж') & (df['align'] == 'Добрый персонаж')]['hair'].value_counts()\n",
    "print(Mode2, Mode1, end=' ')"
   ],
   "metadata": {
    "collapsed": false,
    "pycharm": {
     "name": "#%%\n"
    }
   }
  },
  {
   "cell_type": "code",
   "execution_count": 95,
   "outputs": [],
   "source": [
    "IQR3 = dropNa_df[dropNa_df['align'] == 'Злой персонаж']['appearances'].quantile(0.75) - dropNa_df[dropNa_df['align'] == 'Злой персонаж']['appearances'].quantile(0.25)\n",
    "IQR1_bottom = dropNa_df[dropNa_df['align'] == 'Злой персонаж']['appearances'].quantile(0.25) - 1.5 * IQR3\n",
    "IQR1_top = dropNa_df[dropNa_df['align'] == 'Злой персонаж']['appearances'].quantile(0.75) + 1.5 * IQR3"
   ],
   "metadata": {
    "collapsed": false,
    "pycharm": {
     "name": "#%%\n"
    }
   }
  },
  {
   "cell_type": "code",
   "execution_count": 98,
   "outputs": [
    {
     "name": "stdout",
     "output_type": "stream",
     "text": [
      "3.0 3.0\n"
     ]
    }
   ],
   "source": [
    "Median1 = dropNa_df[dropNa_df['align'] == 'Злой персонаж']['appearances'].median()\n",
    "Median2 = dropNa_df[(dropNa_df['align'] == 'Злой персонаж') & ((dropNa_df['appearances'] > IQR1_bottom) | (dropNa_df['appearances'] < IQR1_top))]['appearances'].median()\n",
    "\n",
    "print(Median1, Median2)"
   ],
   "metadata": {
    "collapsed": false,
    "pycharm": {
     "name": "#%%\n"
    }
   }
  },
  {
   "cell_type": "code",
   "execution_count": 97,
   "outputs": [
    {
     "data": {
      "text/plain": "3.0"
     },
     "execution_count": 97,
     "metadata": {},
     "output_type": "execute_result"
    }
   ],
   "source": [
    "dropNa_df[dropNa_df['align'] == 'Злой персонаж']['appearances'].quantile(0.5)"
   ],
   "metadata": {
    "collapsed": false,
    "pycharm": {
     "name": "#%%\n"
    }
   }
  }
 ],
 "metadata": {
  "kernelspec": {
   "display_name": "Python 3",
   "language": "python",
   "name": "python3"
  },
  "language_info": {
   "codemirror_mode": {
    "name": "ipython",
    "version": 2
   },
   "file_extension": ".py",
   "mimetype": "text/x-python",
   "name": "python",
   "nbconvert_exporter": "python",
   "pygments_lexer": "ipython2",
   "version": "2.7.6"
  }
 },
 "nbformat": 4,
 "nbformat_minor": 0
}