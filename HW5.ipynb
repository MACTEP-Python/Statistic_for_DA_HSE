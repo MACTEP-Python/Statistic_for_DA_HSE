{
 "cells": [
  {
   "cell_type": "code",
   "execution_count": 1,
   "metadata": {
    "collapsed": true
   },
   "outputs": [],
   "source": [
    "import numpy as np\n",
    "import pandas as pd"
   ]
  },
  {
   "cell_type": "code",
   "execution_count": 5,
   "outputs": [
    {
     "name": "stdout",
     "output_type": "stream",
     "text": [
      "<class 'pandas.core.frame.DataFrame'>\n",
      "RangeIndex: 37466 entries, 0 to 37465\n",
      "Data columns (total 20 columns):\n",
      " #   Column           Non-Null Count  Dtype \n",
      "---  ------           --------------  ----- \n",
      " 0   gameid           37466 non-null  int64 \n",
      " 1   tourneyid        37466 non-null  int64 \n",
      " 2   tie              37466 non-null  int64 \n",
      " 3   winnerid         37466 non-null  int64 \n",
      " 4   winnername       37466 non-null  object\n",
      " 5   winnerscore      37466 non-null  int64 \n",
      " 6   winneroldrating  37466 non-null  int64 \n",
      " 7   winnernewrating  37466 non-null  int64 \n",
      " 8   winnerpos        37466 non-null  int64 \n",
      " 9   loserid          37466 non-null  int64 \n",
      " 10  losername        37466 non-null  object\n",
      " 11  loserscore       37466 non-null  int64 \n",
      " 12  loseroldrating   37466 non-null  int64 \n",
      " 13  losernewrating   37466 non-null  int64 \n",
      " 14  loserpos         37466 non-null  int64 \n",
      " 15  round            37466 non-null  int64 \n",
      " 16  division         37466 non-null  int64 \n",
      " 17  date             37466 non-null  object\n",
      " 18  lexicon          37466 non-null  int64 \n",
      " 19  year             37466 non-null  int64 \n",
      "dtypes: int64(17), object(3)\n",
      "memory usage: 5.7+ MB\n"
     ]
    }
   ],
   "source": [
    "df = pd.read_csv('Data\\ScrabbleGames.csv')\n",
    "df.info()"
   ],
   "metadata": {
    "collapsed": false,
    "pycharm": {
     "name": "#%%\n"
    }
   }
  },
  {
   "cell_type": "code",
   "execution_count": 18,
   "outputs": [
    {
     "data": {
      "text/plain": "                 winnerscore  winnernewrating\nwinnerscore         1.000000        -0.604013\nwinnernewrating    -0.604013         1.000000",
      "text/html": "<div>\n<style scoped>\n    .dataframe tbody tr th:only-of-type {\n        vertical-align: middle;\n    }\n\n    .dataframe tbody tr th {\n        vertical-align: top;\n    }\n\n    .dataframe thead th {\n        text-align: right;\n    }\n</style>\n<table border=\"1\" class=\"dataframe\">\n  <thead>\n    <tr style=\"text-align: right;\">\n      <th></th>\n      <th>winnerscore</th>\n      <th>winnernewrating</th>\n    </tr>\n  </thead>\n  <tbody>\n    <tr>\n      <th>winnerscore</th>\n      <td>1.000000</td>\n      <td>-0.604013</td>\n    </tr>\n    <tr>\n      <th>winnernewrating</th>\n      <td>-0.604013</td>\n      <td>1.000000</td>\n    </tr>\n  </tbody>\n</table>\n</div>"
     },
     "execution_count": 18,
     "metadata": {},
     "output_type": "execute_result"
    }
   ],
   "source": [
    "df.groupby('tourneyid')[['winnerscore', 'winnernewrating']].mean().corr()"
   ],
   "metadata": {
    "collapsed": false,
    "pycharm": {
     "name": "#%%\n"
    }
   }
  },
  {
   "cell_type": "code",
   "execution_count": 19,
   "outputs": [
    {
     "data": {
      "text/plain": "             winnerscore  loserscore\nwinnerscore     1.000000    0.999938\nloserscore      0.999938    1.000000",
      "text/html": "<div>\n<style scoped>\n    .dataframe tbody tr th:only-of-type {\n        vertical-align: middle;\n    }\n\n    .dataframe tbody tr th {\n        vertical-align: top;\n    }\n\n    .dataframe thead th {\n        text-align: right;\n    }\n</style>\n<table border=\"1\" class=\"dataframe\">\n  <thead>\n    <tr style=\"text-align: right;\">\n      <th></th>\n      <th>winnerscore</th>\n      <th>loserscore</th>\n    </tr>\n  </thead>\n  <tbody>\n    <tr>\n      <th>winnerscore</th>\n      <td>1.000000</td>\n      <td>0.999938</td>\n    </tr>\n    <tr>\n      <th>loserscore</th>\n      <td>0.999938</td>\n      <td>1.000000</td>\n    </tr>\n  </tbody>\n</table>\n</div>"
     },
     "execution_count": 19,
     "metadata": {},
     "output_type": "execute_result"
    }
   ],
   "source": [
    "df.groupby('tourneyid')[['winnerscore', 'loserscore']].mean().corr()"
   ],
   "metadata": {
    "collapsed": false,
    "pycharm": {
     "name": "#%%\n"
    }
   }
  },
  {
   "cell_type": "code",
   "execution_count": 20,
   "outputs": [
    {
     "data": {
      "text/plain": "0.07533405597041623"
     },
     "execution_count": 20,
     "metadata": {},
     "output_type": "execute_result"
    }
   ],
   "source": [
    "df.winnerscore.corr(df.winnernewrating)"
   ],
   "metadata": {
    "collapsed": false,
    "pycharm": {
     "name": "#%%\n"
    }
   }
  },
  {
   "cell_type": "code",
   "execution_count": 22,
   "outputs": [
    {
     "data": {
      "text/plain": "                 winnernewrating  losernewrating\nwinnernewrating             1.00            0.98\nlosernewrating              0.98            1.00",
      "text/html": "<div>\n<style scoped>\n    .dataframe tbody tr th:only-of-type {\n        vertical-align: middle;\n    }\n\n    .dataframe tbody tr th {\n        vertical-align: top;\n    }\n\n    .dataframe thead th {\n        text-align: right;\n    }\n</style>\n<table border=\"1\" class=\"dataframe\">\n  <thead>\n    <tr style=\"text-align: right;\">\n      <th></th>\n      <th>winnernewrating</th>\n      <th>losernewrating</th>\n    </tr>\n  </thead>\n  <tbody>\n    <tr>\n      <th>winnernewrating</th>\n      <td>1.00</td>\n      <td>0.98</td>\n    </tr>\n    <tr>\n      <th>losernewrating</th>\n      <td>0.98</td>\n      <td>1.00</td>\n    </tr>\n  </tbody>\n</table>\n</div>"
     },
     "execution_count": 22,
     "metadata": {},
     "output_type": "execute_result"
    }
   ],
   "source": [
    "round(df.groupby('tourneyid')[['winnernewrating', 'losernewrating']].mean().corr(),2)"
   ],
   "metadata": {
    "collapsed": false,
    "pycharm": {
     "name": "#%%\n"
    }
   }
  },
  {
   "cell_type": "code",
   "execution_count": 23,
   "outputs": [
    {
     "data": {
      "text/plain": "             winnerscore  loserscore\nwinnerscore          1.0         1.0\nloserscore           1.0         1.0",
      "text/html": "<div>\n<style scoped>\n    .dataframe tbody tr th:only-of-type {\n        vertical-align: middle;\n    }\n\n    .dataframe tbody tr th {\n        vertical-align: top;\n    }\n\n    .dataframe thead th {\n        text-align: right;\n    }\n</style>\n<table border=\"1\" class=\"dataframe\">\n  <thead>\n    <tr style=\"text-align: right;\">\n      <th></th>\n      <th>winnerscore</th>\n      <th>loserscore</th>\n    </tr>\n  </thead>\n  <tbody>\n    <tr>\n      <th>winnerscore</th>\n      <td>1.0</td>\n      <td>1.0</td>\n    </tr>\n    <tr>\n      <th>loserscore</th>\n      <td>1.0</td>\n      <td>1.0</td>\n    </tr>\n  </tbody>\n</table>\n</div>"
     },
     "execution_count": 23,
     "metadata": {},
     "output_type": "execute_result"
    }
   ],
   "source": [
    "round(df.groupby('tourneyid')[['winnerscore', 'loserscore']].mean().corr(), 2)"
   ],
   "metadata": {
    "collapsed": false,
    "pycharm": {
     "name": "#%%\n"
    }
   }
  },
  {
   "cell_type": "code",
   "execution_count": 36,
   "outputs": [
    {
     "data": {
      "text/plain": "             winnerscore  loserscore\nwinnerscore     1.000000    0.999897\nloserscore      0.999897    1.000000",
      "text/html": "<div>\n<style scoped>\n    .dataframe tbody tr th:only-of-type {\n        vertical-align: middle;\n    }\n\n    .dataframe tbody tr th {\n        vertical-align: top;\n    }\n\n    .dataframe thead th {\n        text-align: right;\n    }\n</style>\n<table border=\"1\" class=\"dataframe\">\n  <thead>\n    <tr style=\"text-align: right;\">\n      <th></th>\n      <th>winnerscore</th>\n      <th>loserscore</th>\n    </tr>\n  </thead>\n  <tbody>\n    <tr>\n      <th>winnerscore</th>\n      <td>1.000000</td>\n      <td>0.999897</td>\n    </tr>\n    <tr>\n      <th>loserscore</th>\n      <td>0.999897</td>\n      <td>1.000000</td>\n    </tr>\n  </tbody>\n</table>\n</div>"
     },
     "execution_count": 36,
     "metadata": {},
     "output_type": "execute_result"
    }
   ],
   "source": [
    "df[df['round'] == 1].groupby('tourneyid')[['winnerscore', 'loserscore']].mean().corr()"
   ],
   "metadata": {
    "collapsed": false,
    "pycharm": {
     "name": "#%%\n"
    }
   }
  },
  {
   "cell_type": "code",
   "execution_count": 37,
   "outputs": [
    {
     "data": {
      "text/plain": "             winnerscore       tie\nwinnerscore     1.000000 -0.080284\ntie            -0.080284  1.000000",
      "text/html": "<div>\n<style scoped>\n    .dataframe tbody tr th:only-of-type {\n        vertical-align: middle;\n    }\n\n    .dataframe tbody tr th {\n        vertical-align: top;\n    }\n\n    .dataframe thead th {\n        text-align: right;\n    }\n</style>\n<table border=\"1\" class=\"dataframe\">\n  <thead>\n    <tr style=\"text-align: right;\">\n      <th></th>\n      <th>winnerscore</th>\n      <th>tie</th>\n    </tr>\n  </thead>\n  <tbody>\n    <tr>\n      <th>winnerscore</th>\n      <td>1.000000</td>\n      <td>-0.080284</td>\n    </tr>\n    <tr>\n      <th>tie</th>\n      <td>-0.080284</td>\n      <td>1.000000</td>\n    </tr>\n  </tbody>\n</table>\n</div>"
     },
     "execution_count": 37,
     "metadata": {},
     "output_type": "execute_result"
    }
   ],
   "source": [
    "df.groupby('tourneyid')[['winnerscore', 'tie']].mean().corr()"
   ],
   "metadata": {
    "collapsed": false,
    "pycharm": {
     "name": "#%%\n"
    }
   }
  },
  {
   "cell_type": "code",
   "execution_count": 39,
   "outputs": [
    {
     "data": {
      "text/plain": "                 tie  loserscore\ntie         1.000000   -0.080069\nloserscore -0.080069    1.000000",
      "text/html": "<div>\n<style scoped>\n    .dataframe tbody tr th:only-of-type {\n        vertical-align: middle;\n    }\n\n    .dataframe tbody tr th {\n        vertical-align: top;\n    }\n\n    .dataframe thead th {\n        text-align: right;\n    }\n</style>\n<table border=\"1\" class=\"dataframe\">\n  <thead>\n    <tr style=\"text-align: right;\">\n      <th></th>\n      <th>tie</th>\n      <th>loserscore</th>\n    </tr>\n  </thead>\n  <tbody>\n    <tr>\n      <th>tie</th>\n      <td>1.000000</td>\n      <td>-0.080069</td>\n    </tr>\n    <tr>\n      <th>loserscore</th>\n      <td>-0.080069</td>\n      <td>1.000000</td>\n    </tr>\n  </tbody>\n</table>\n</div>"
     },
     "execution_count": 39,
     "metadata": {},
     "output_type": "execute_result"
    }
   ],
   "source": [
    "df.groupby('tourneyid')[['tie', 'loserscore']].mean().corr()"
   ],
   "metadata": {
    "collapsed": false,
    "pycharm": {
     "name": "#%%\n"
    }
   }
  },
  {
   "cell_type": "code",
   "execution_count": 59,
   "outputs": [
    {
     "data": {
      "text/plain": "                 winnerscore  winneroldrating\nwinnerscore             1.00             0.05\nwinneroldrating         0.05             1.00",
      "text/html": "<div>\n<style scoped>\n    .dataframe tbody tr th:only-of-type {\n        vertical-align: middle;\n    }\n\n    .dataframe tbody tr th {\n        vertical-align: top;\n    }\n\n    .dataframe thead th {\n        text-align: right;\n    }\n</style>\n<table border=\"1\" class=\"dataframe\">\n  <thead>\n    <tr style=\"text-align: right;\">\n      <th></th>\n      <th>winnerscore</th>\n      <th>winneroldrating</th>\n    </tr>\n  </thead>\n  <tbody>\n    <tr>\n      <th>winnerscore</th>\n      <td>1.00</td>\n      <td>0.05</td>\n    </tr>\n    <tr>\n      <th>winneroldrating</th>\n      <td>0.05</td>\n      <td>1.00</td>\n    </tr>\n  </tbody>\n</table>\n</div>"
     },
     "execution_count": 59,
     "metadata": {},
     "output_type": "execute_result"
    }
   ],
   "source": [
    "round(df[df.winnername == df.winnername.value_counts().index[0]].groupby('tourneyid')[['winnerscore', 'winneroldrating']].mean().corr(), 2)"
   ],
   "metadata": {
    "collapsed": false,
    "pycharm": {
     "name": "#%%\n"
    }
   }
  },
  {
   "cell_type": "code",
   "execution_count": 60,
   "outputs": [
    {
     "data": {
      "text/plain": "                 winnerscore  winneroldrating\nwinnerscore              1.0             -0.5\nwinneroldrating         -0.5              1.0",
      "text/html": "<div>\n<style scoped>\n    .dataframe tbody tr th:only-of-type {\n        vertical-align: middle;\n    }\n\n    .dataframe tbody tr th {\n        vertical-align: top;\n    }\n\n    .dataframe thead th {\n        text-align: right;\n    }\n</style>\n<table border=\"1\" class=\"dataframe\">\n  <thead>\n    <tr style=\"text-align: right;\">\n      <th></th>\n      <th>winnerscore</th>\n      <th>winneroldrating</th>\n    </tr>\n  </thead>\n  <tbody>\n    <tr>\n      <th>winnerscore</th>\n      <td>1.0</td>\n      <td>-0.5</td>\n    </tr>\n    <tr>\n      <th>winneroldrating</th>\n      <td>-0.5</td>\n      <td>1.0</td>\n    </tr>\n  </tbody>\n</table>\n</div>"
     },
     "execution_count": 60,
     "metadata": {},
     "output_type": "execute_result"
    }
   ],
   "source": [
    "round(df[df.winnername == 'Stuart Goldman'].groupby('tourneyid')[['winnerscore', 'winneroldrating']].mean().corr(), 2)"
   ],
   "metadata": {
    "collapsed": false,
    "pycharm": {
     "name": "#%%\n"
    }
   }
  },
  {
   "cell_type": "code",
   "execution_count": 64,
   "outputs": [
    {
     "data": {
      "text/plain": "             winnerscore  loserscore\nwinnerscore         1.00       -0.25\nloserscore         -0.25        1.00",
      "text/html": "<div>\n<style scoped>\n    .dataframe tbody tr th:only-of-type {\n        vertical-align: middle;\n    }\n\n    .dataframe tbody tr th {\n        vertical-align: top;\n    }\n\n    .dataframe thead th {\n        text-align: right;\n    }\n</style>\n<table border=\"1\" class=\"dataframe\">\n  <thead>\n    <tr style=\"text-align: right;\">\n      <th></th>\n      <th>winnerscore</th>\n      <th>loserscore</th>\n    </tr>\n  </thead>\n  <tbody>\n    <tr>\n      <th>winnerscore</th>\n      <td>1.00</td>\n      <td>-0.25</td>\n    </tr>\n    <tr>\n      <th>loserscore</th>\n      <td>-0.25</td>\n      <td>1.00</td>\n    </tr>\n  </tbody>\n</table>\n</div>"
     },
     "execution_count": 64,
     "metadata": {},
     "output_type": "execute_result"
    }
   ],
   "source": [
    "round(df[df.tourneyid == 4376][['winnerscore', 'loserscore']].corr(), 2)"
   ],
   "metadata": {
    "collapsed": false,
    "pycharm": {
     "name": "#%%\n"
    }
   }
  },
  {
   "cell_type": "code",
   "execution_count": null,
   "outputs": [],
   "source": [],
   "metadata": {
    "collapsed": false,
    "pycharm": {
     "name": "#%%\n"
    }
   }
  }
 ],
 "metadata": {
  "kernelspec": {
   "display_name": "Python 3",
   "language": "python",
   "name": "python3"
  },
  "language_info": {
   "codemirror_mode": {
    "name": "ipython",
    "version": 2
   },
   "file_extension": ".py",
   "mimetype": "text/x-python",
   "name": "python",
   "nbconvert_exporter": "python",
   "pygments_lexer": "ipython2",
   "version": "2.7.6"
  }
 },
 "nbformat": 4,
 "nbformat_minor": 0
}